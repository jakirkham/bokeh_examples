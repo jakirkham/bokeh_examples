{
 "cells": [
  {
   "cell_type": "code",
   "execution_count": 1,
   "metadata": {
    "collapsed": true
   },
   "outputs": [],
   "source": [
    "import numpy\n",
    "\n",
    "from bokeh.plotting import figure\n",
    "from bokeh.resources import CDN\n",
    "from bokeh.embed import file_html\n",
    "from bokeh.palettes import Spectral11\n",
    "\n",
    "from IPython.display import display, HTML"
   ]
  },
  {
   "cell_type": "code",
   "execution_count": 2,
   "metadata": {
    "collapsed": false
   },
   "outputs": [
    {
     "data": {
      "text/html": [
       "<!DOCTYPE html>\n",
       "<html lang=\"en\">\n",
       "    <head>\n",
       "        <meta charset=\"utf-8\">\n",
       "        <title>my plot</title>\n",
       "        \n",
       "        <link rel=\"stylesheet\" href=\"http://cdn.pydata.org/bokeh/release/bokeh-0.8.2.min.css\" type=\"text/css\" />\n",
       "        <script type=\"text/javascript\" src=\"http://cdn.pydata.org/bokeh/release/bokeh-0.8.2.min.js\"></script>\n",
       "        <script type=\"text/javascript\">\n",
       "            Bokeh.set_log_level(\"info\");\n",
       "        </script>\n",
       "\n",
       "        <script type=\"text/javascript\">\n",
       "            Bokeh.$(function() {\n",
       "                var modelid = \"7617cb7c-c05d-4a68-998b-c62f38eefaf7\";\n",
       "                var modeltype = \"Plot\";\n",
       "                var elementid = \"59766f7b-41d9-403c-aa16-1c32a7f9c5b1\";\n",
       "                Bokeh.logger.info(\"Realizing plot:\")\n",
       "                Bokeh.logger.info(\" - modeltype: Plot\");\n",
       "                Bokeh.logger.info(\" - modelid: 7617cb7c-c05d-4a68-998b-c62f38eefaf7\");\n",
       "                Bokeh.logger.info(\" - elementid: 59766f7b-41d9-403c-aa16-1c32a7f9c5b1\");\n",
       "                var all_models = [{\"attributes\": {\"start\": 0, \"end\": 11, \"tags\": [], \"doc\": null, \"id\": \"9aa2e5ae-7bb9-4616-b5f7-2872a4ca02d9\"}, \"type\": \"Range1d\", \"id\": \"9aa2e5ae-7bb9-4616-b5f7-2872a4ca02d9\"}, {\"attributes\": {\"nonselection_glyph\": {\"type\": \"Image\", \"id\": \"dfb18c80-46d6-4d82-a932-8cd87981ce06\"}, \"data_source\": {\"type\": \"ColumnDataSource\", \"id\": \"133c0c68-71ec-4753-81f7-c02fdf575928\"}, \"name\": null, \"tags\": [], \"doc\": null, \"selection_glyph\": null, \"id\": \"61bba6bd-4da1-4c3d-97ef-81c01c2220ad\", \"glyph\": {\"type\": \"Image\", \"id\": \"76bc7df1-cda9-4fbf-b174-8e0413fa1e78\"}}, \"type\": \"GlyphRenderer\", \"id\": \"61bba6bd-4da1-4c3d-97ef-81c01c2220ad\"}, {\"attributes\": {\"plot\": {\"subtype\": \"Figure\", \"type\": \"Plot\", \"id\": \"7617cb7c-c05d-4a68-998b-c62f38eefaf7\"}, \"tags\": [], \"doc\": null, \"dimension\": 0, \"ticker\": {\"type\": \"BasicTicker\", \"id\": \"e5c922b5-27e7-4ab8-a5b1-77cf80fa075b\"}, \"id\": \"72b1af5a-4667-4c81-9f99-ed2d24a51bce\"}, \"type\": \"Grid\", \"id\": \"72b1af5a-4667-4c81-9f99-ed2d24a51bce\"}, {\"subtype\": \"Figure\", \"type\": \"Plot\", \"id\": \"7617cb7c-c05d-4a68-998b-c62f38eefaf7\", \"attributes\": {\"x_range\": {\"type\": \"Range1d\", \"id\": \"c5514c9c-53fe-4e1c-ad08-39cf7b3739bd\"}, \"right\": [], \"tags\": [], \"tools\": [{\"type\": \"PanTool\", \"id\": \"fee7ad50-0ed1-4500-b6fc-7a0fda5f5399\"}, {\"type\": \"WheelZoomTool\", \"id\": \"c0256972-c22d-4f25-b7ce-c8af07e508ec\"}, {\"type\": \"BoxZoomTool\", \"id\": \"8555b485-9c5d-4035-b8e9-226bbf543ca4\"}, {\"type\": \"PreviewSaveTool\", \"id\": \"24d84dad-41af-41d7-842b-d6eab4ea8ffe\"}, {\"type\": \"ResizeTool\", \"id\": \"9008d724-34e3-49e7-8659-43aa4a2f39b1\"}, {\"type\": \"ResetTool\", \"id\": \"fd8aded9-487c-43f2-a005-d9bd70088a6a\"}], \"extra_y_ranges\": {}, \"plot_width\": 500, \"renderers\": [{\"type\": \"LinearAxis\", \"id\": \"ec30b969-d7be-4c88-bf4f-a9b5f994689b\"}, {\"type\": \"Grid\", \"id\": \"72b1af5a-4667-4c81-9f99-ed2d24a51bce\"}, {\"type\": \"LinearAxis\", \"id\": \"a1b1c3b6-1ff2-490b-8d62-446090179084\"}, {\"type\": \"Grid\", \"id\": \"66e3529a-1660-494c-b178-f78737e6621b\"}, {\"type\": \"GlyphRenderer\", \"id\": \"61bba6bd-4da1-4c3d-97ef-81c01c2220ad\"}], \"extra_x_ranges\": {}, \"plot_height\": 550, \"tool_events\": {\"type\": \"ToolEvents\", \"id\": \"916a73c6-53c3-4dc0-827d-37f3605b3dfb\"}, \"above\": [], \"doc\": null, \"id\": \"7617cb7c-c05d-4a68-998b-c62f38eefaf7\", \"y_range\": {\"type\": \"Range1d\", \"id\": \"9aa2e5ae-7bb9-4616-b5f7-2872a4ca02d9\"}, \"below\": [{\"type\": \"LinearAxis\", \"id\": \"ec30b969-d7be-4c88-bf4f-a9b5f994689b\"}], \"left\": [{\"type\": \"LinearAxis\", \"id\": \"a1b1c3b6-1ff2-490b-8d62-446090179084\"}]}}, {\"attributes\": {\"tags\": [], \"doc\": null, \"mantissas\": [2, 5, 10], \"id\": \"b47b3a0c-7347-4290-bbf4-5f8cbe879638\", \"num_minor_ticks\": 5}, \"type\": \"BasicTicker\", \"id\": \"b47b3a0c-7347-4290-bbf4-5f8cbe879638\"}, {\"attributes\": {\"plot\": {\"subtype\": \"Figure\", \"type\": \"Plot\", \"id\": \"7617cb7c-c05d-4a68-998b-c62f38eefaf7\"}, \"tags\": [], \"doc\": null, \"dimension\": 1, \"ticker\": {\"type\": \"BasicTicker\", \"id\": \"b47b3a0c-7347-4290-bbf4-5f8cbe879638\"}, \"id\": \"66e3529a-1660-494c-b178-f78737e6621b\"}, \"type\": \"Grid\", \"id\": \"66e3529a-1660-494c-b178-f78737e6621b\"}, {\"attributes\": {\"plot\": {\"subtype\": \"Figure\", \"type\": \"Plot\", \"id\": \"7617cb7c-c05d-4a68-998b-c62f38eefaf7\"}, \"dimensions\": [\"width\", \"height\"], \"tags\": [], \"doc\": null, \"id\": \"fee7ad50-0ed1-4500-b6fc-7a0fda5f5399\"}, \"type\": \"PanTool\", \"id\": \"fee7ad50-0ed1-4500-b6fc-7a0fda5f5399\"}, {\"attributes\": {\"plot\": {\"subtype\": \"Figure\", \"type\": \"Plot\", \"id\": \"7617cb7c-c05d-4a68-998b-c62f38eefaf7\"}, \"dimensions\": [\"width\", \"height\"], \"tags\": [], \"doc\": null, \"id\": \"c0256972-c22d-4f25-b7ce-c8af07e508ec\"}, \"type\": \"WheelZoomTool\", \"id\": \"c0256972-c22d-4f25-b7ce-c8af07e508ec\"}, {\"attributes\": {\"plot\": {\"subtype\": \"Figure\", \"type\": \"Plot\", \"id\": \"7617cb7c-c05d-4a68-998b-c62f38eefaf7\"}, \"dimensions\": [\"width\", \"height\"], \"tags\": [], \"doc\": null, \"id\": \"8555b485-9c5d-4035-b8e9-226bbf543ca4\"}, \"type\": \"BoxZoomTool\", \"id\": \"8555b485-9c5d-4035-b8e9-226bbf543ca4\"}, {\"attributes\": {\"plot\": {\"subtype\": \"Figure\", \"type\": \"Plot\", \"id\": \"7617cb7c-c05d-4a68-998b-c62f38eefaf7\"}, \"tags\": [], \"doc\": null, \"id\": \"24d84dad-41af-41d7-842b-d6eab4ea8ffe\"}, \"type\": \"PreviewSaveTool\", \"id\": \"24d84dad-41af-41d7-842b-d6eab4ea8ffe\"}, {\"attributes\": {\"plot\": {\"subtype\": \"Figure\", \"type\": \"Plot\", \"id\": \"7617cb7c-c05d-4a68-998b-c62f38eefaf7\"}, \"tags\": [], \"doc\": null, \"id\": \"9008d724-34e3-49e7-8659-43aa4a2f39b1\"}, \"type\": \"ResizeTool\", \"id\": \"9008d724-34e3-49e7-8659-43aa4a2f39b1\"}, {\"attributes\": {\"plot\": {\"subtype\": \"Figure\", \"type\": \"Plot\", \"id\": \"7617cb7c-c05d-4a68-998b-c62f38eefaf7\"}, \"tags\": [], \"doc\": null, \"id\": \"fd8aded9-487c-43f2-a005-d9bd70088a6a\"}, \"type\": \"ResetTool\", \"id\": \"fd8aded9-487c-43f2-a005-d9bd70088a6a\"}, {\"attributes\": {\"color_mapper\": {\"type\": \"LinearColorMapper\", \"id\": \"d8d46150-ff78-46e7-b661-916cb8178e2b\"}, \"dh\": {\"units\": \"data\", \"field\": \"dh\"}, \"tags\": [], \"doc\": null, \"image\": {\"units\": \"data\", \"field\": \"image\"}, \"x\": {\"units\": \"data\", \"field\": \"x\"}, \"y\": {\"units\": \"data\", \"field\": \"y\"}, \"dw\": {\"units\": \"data\", \"field\": \"dw\"}, \"id\": \"76bc7df1-cda9-4fbf-b174-8e0413fa1e78\"}, \"type\": \"Image\", \"id\": \"76bc7df1-cda9-4fbf-b174-8e0413fa1e78\"}, {\"attributes\": {\"doc\": null, \"id\": \"4a0a518e-f7bb-4911-ae9d-250fd598df76\", \"tags\": []}, \"type\": \"BasicTickFormatter\", \"id\": \"4a0a518e-f7bb-4911-ae9d-250fd598df76\"}, {\"attributes\": {\"palette\": [\"#5e4fa2\", \"#3288bd\", \"#66c2a5\", \"#abdda4\", \"#e6f598\", \"#ffffbf\", \"#fee08b\", \"#fdae61\", \"#f46d43\", \"#d53e4f\", \"#9e0142\"], \"tags\": [], \"doc\": null, \"id\": \"d8d46150-ff78-46e7-b661-916cb8178e2b\"}, \"type\": \"LinearColorMapper\", \"id\": \"d8d46150-ff78-46e7-b661-916cb8178e2b\"}, {\"attributes\": {\"plot\": {\"subtype\": \"Figure\", \"type\": \"Plot\", \"id\": \"7617cb7c-c05d-4a68-998b-c62f38eefaf7\"}, \"tags\": [], \"doc\": null, \"formatter\": {\"type\": \"BasicTickFormatter\", \"id\": \"a3e1a626-a375-4996-aceb-9199f50a5597\"}, \"ticker\": {\"type\": \"BasicTicker\", \"id\": \"b47b3a0c-7347-4290-bbf4-5f8cbe879638\"}, \"id\": \"a1b1c3b6-1ff2-490b-8d62-446090179084\"}, \"type\": \"LinearAxis\", \"id\": \"a1b1c3b6-1ff2-490b-8d62-446090179084\"}, {\"attributes\": {\"column_names\": [\"dh\", \"dw\", \"image\", \"x\", \"y\"], \"tags\": [], \"doc\": null, \"selected\": [], \"data\": {\"y\": [0], \"dw\": [10], \"image\": [[[0, 1, 2, 3, 4, 5, 6, 7, 8, 9, 10], [11, 12, 13, 14, 15, 16, 17, 18, 19, 20, 21], [22, 23, 24, 25, 26, 27, 28, 29, 30, 31, 32], [33, 34, 35, 36, 37, 38, 39, 40, 41, 42, 43], [44, 45, 46, 47, 48, 49, 50, 51, 52, 53, 54], [55, 56, 57, 58, 59, 60, 61, 62, 63, 64, 65], [66, 67, 68, 69, 70, 71, 72, 73, 74, 75, 76], [77, 78, 79, 80, 81, 82, 83, 84, 85, 86, 87], [88, 89, 90, 91, 92, 93, 94, 95, 96, 97, 98], [99, 100, 101, 102, 103, 104, 105, 106, 107, 108, 109]]], \"dh\": [11], \"x\": [0]}, \"id\": \"133c0c68-71ec-4753-81f7-c02fdf575928\"}, \"type\": \"ColumnDataSource\", \"id\": \"133c0c68-71ec-4753-81f7-c02fdf575928\"}, {\"attributes\": {\"doc\": null, \"id\": \"a3e1a626-a375-4996-aceb-9199f50a5597\", \"tags\": []}, \"type\": \"BasicTickFormatter\", \"id\": \"a3e1a626-a375-4996-aceb-9199f50a5597\"}, {\"attributes\": {\"start\": 0, \"end\": 10, \"tags\": [], \"doc\": null, \"id\": \"c5514c9c-53fe-4e1c-ad08-39cf7b3739bd\"}, \"type\": \"Range1d\", \"id\": \"c5514c9c-53fe-4e1c-ad08-39cf7b3739bd\"}, {\"attributes\": {\"geometries\": [], \"tags\": [], \"doc\": null, \"id\": \"916a73c6-53c3-4dc0-827d-37f3605b3dfb\"}, \"type\": \"ToolEvents\", \"id\": \"916a73c6-53c3-4dc0-827d-37f3605b3dfb\"}, {\"attributes\": {\"plot\": {\"subtype\": \"Figure\", \"type\": \"Plot\", \"id\": \"7617cb7c-c05d-4a68-998b-c62f38eefaf7\"}, \"tags\": [], \"doc\": null, \"formatter\": {\"type\": \"BasicTickFormatter\", \"id\": \"4a0a518e-f7bb-4911-ae9d-250fd598df76\"}, \"ticker\": {\"type\": \"BasicTicker\", \"id\": \"e5c922b5-27e7-4ab8-a5b1-77cf80fa075b\"}, \"id\": \"ec30b969-d7be-4c88-bf4f-a9b5f994689b\"}, \"type\": \"LinearAxis\", \"id\": \"ec30b969-d7be-4c88-bf4f-a9b5f994689b\"}, {\"attributes\": {\"tags\": [], \"doc\": null, \"mantissas\": [2, 5, 10], \"id\": \"e5c922b5-27e7-4ab8-a5b1-77cf80fa075b\", \"num_minor_ticks\": 5}, \"type\": \"BasicTicker\", \"id\": \"e5c922b5-27e7-4ab8-a5b1-77cf80fa075b\"}, {\"attributes\": {\"color_mapper\": {\"type\": \"LinearColorMapper\", \"id\": \"d8d46150-ff78-46e7-b661-916cb8178e2b\"}, \"dh\": {\"units\": \"data\", \"field\": \"dh\"}, \"tags\": [], \"doc\": null, \"image\": {\"units\": \"data\", \"field\": \"image\"}, \"x\": {\"units\": \"data\", \"field\": \"x\"}, \"y\": {\"units\": \"data\", \"field\": \"y\"}, \"dw\": {\"units\": \"data\", \"field\": \"dw\"}, \"id\": \"dfb18c80-46d6-4d82-a932-8cd87981ce06\"}, \"type\": \"Image\", \"id\": \"dfb18c80-46d6-4d82-a932-8cd87981ce06\"}];\n",
       "                Bokeh.load_models(all_models);\n",
       "                var model = Bokeh.Collections(modeltype).get(modelid);\n",
       "                var view = new model.default_view({model: model, el: '#59766f7b-41d9-403c-aa16-1c32a7f9c5b1'});\n",
       "                Bokeh.index[modelid] = view\n",
       "            });\n",
       "        </script>\n",
       "    </head>\n",
       "    <body>\n",
       "        <div class=\"plotdiv\" id=\"59766f7b-41d9-403c-aa16-1c32a7f9c5b1\"></div>\n",
       "    </body>\n",
       "</html>"
      ],
      "text/plain": [
       "<IPython.core.display.HTML object>"
      ]
     },
     "metadata": {},
     "output_type": "display_data"
    }
   ],
   "source": [
    "a = numpy.arange(110).reshape(10, 11)\n",
    "\n",
    "block_size = 50\n",
    "plot = figure(plot_width=block_size*a.shape[0], plot_height=block_size*a.shape[1],\n",
    "              x_range=[0, a.shape[0]], y_range=[0, a.shape[1]])\n",
    "plot.image(image=[a], x=[0], y=[0],\n",
    "           dw=[a.shape[0]], dh=[a.shape[1]], palette=Spectral11)\n",
    "\n",
    "html = file_html(plot, CDN, \"my plot\")\n",
    "\n",
    "display(HTML(html))"
   ]
  },
  {
   "cell_type": "code",
   "execution_count": null,
   "metadata": {
    "collapsed": true
   },
   "outputs": [],
   "source": []
  }
 ],
 "metadata": {
  "kernelspec": {
   "display_name": "Python 2",
   "language": "python",
   "name": "python2"
  },
  "language_info": {
   "codemirror_mode": {
    "name": "ipython",
    "version": 2
   },
   "file_extension": ".py",
   "mimetype": "text/x-python",
   "name": "python",
   "nbconvert_exporter": "python",
   "pygments_lexer": "ipython2",
   "version": "2.7.9"
  }
 },
 "nbformat": 4,
 "nbformat_minor": 0
}
