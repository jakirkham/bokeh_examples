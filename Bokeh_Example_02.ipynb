{
 "cells": [
  {
   "cell_type": "code",
   "execution_count": 1,
   "metadata": {
    "collapsed": true
   },
   "outputs": [],
   "source": [
    "import numpy\n",
    "\n",
    "from bokeh.plotting import figure\n",
    "from bokeh.resources import CDN\n",
    "from bokeh.embed import file_html\n",
    "from bokeh.palettes import Spectral11\n",
    "\n",
    "from IPython.display import display, HTML"
   ]
  },
  {
   "cell_type": "code",
   "execution_count": 2,
   "metadata": {
    "collapsed": false
   },
   "outputs": [
    {
     "data": {
      "text/html": [
       "\n",
       "<!DOCTYPE html>\n",
       "<html lang=\"en\">\n",
       "    <head>\n",
       "        <meta charset=\"utf-8\">\n",
       "        <title>my plot</title>\n",
       "        \n",
       "<link rel=\"stylesheet\" href=\"https://cdn.pydata.org/bokeh/release/bokeh-0.12.3.min.css\" type=\"text/css\" />\n",
       "        \n",
       "<script type=\"text/javascript\" src=\"https://cdn.pydata.org/bokeh/release/bokeh-0.12.3.min.js\"></script>\n",
       "<script type=\"text/javascript\">\n",
       "    Bokeh.set_log_level(\"info\");\n",
       "</script>\n",
       "        <style>\n",
       "          html {\n",
       "            width: 100%;\n",
       "            height: 100%;\n",
       "          }\n",
       "          body {\n",
       "            width: 90%;\n",
       "            height: 100%;\n",
       "            margin: auto;\n",
       "          }\n",
       "        </style>\n",
       "    </head>\n",
       "    <body>\n",
       "        \n",
       "        <div class=\"bk-root\">\n",
       "            <div class=\"plotdiv\" id=\"e1485222-27d5-467f-96db-d13405317909\"></div>\n",
       "        </div>\n",
       "        \n",
       "        <script type=\"text/javascript\">\n",
       "            Bokeh.$(function() {\n",
       "            Bokeh.safely(function() {\n",
       "                var docs_json = {\"4c202f3c-7a16-49d1-bb4c-701289e9fb18\":{\"roots\":{\"references\":[{\"attributes\":{\"dimension\":1,\"plot\":{\"id\":\"9eb4c408-6ba2-4c31-a6dd-60ddc94b42d9\",\"subtype\":\"Figure\",\"type\":\"Plot\"},\"ticker\":{\"id\":\"e6a9475e-8e15-4e6e-b558-75a452fd4018\",\"type\":\"BasicTicker\"}},\"id\":\"a7d2739d-f340-49c8-8126-efbd9fd919e9\",\"type\":\"Grid\"},{\"attributes\":{\"palette\":[\"#5e4fa2\",\"#3288bd\",\"#66c2a5\",\"#abdda4\",\"#e6f598\",\"#ffffbf\",\"#fee08b\",\"#fdae61\",\"#f46d43\",\"#d53e4f\",\"#9e0142\"]},\"id\":\"be891d12-d69c-4fec-84f9-0e36ac5aac90\",\"type\":\"LinearColorMapper\"},{\"attributes\":{},\"id\":\"fc00f1ff-0c6f-4fa1-9f63-c3fdc5f5332d\",\"type\":\"BasicTickFormatter\"},{\"attributes\":{\"plot\":{\"id\":\"9eb4c408-6ba2-4c31-a6dd-60ddc94b42d9\",\"subtype\":\"Figure\",\"type\":\"Plot\"}},\"id\":\"3a575c5d-e19f-4e37-822b-aeb29c248048\",\"type\":\"SaveTool\"},{\"attributes\":{\"callback\":null,\"end\":10},\"id\":\"64f88427-69d0-4296-a1e9-189d833509bb\",\"type\":\"Range1d\"},{\"attributes\":{\"callback\":null,\"end\":11},\"id\":\"637bec87-f27d-4078-9881-1038f9e3f329\",\"type\":\"Range1d\"},{\"attributes\":{},\"id\":\"cb3ccb7e-f99e-4bf3-85ab-f8691ad941ad\",\"type\":\"ToolEvents\"},{\"attributes\":{\"plot\":{\"id\":\"9eb4c408-6ba2-4c31-a6dd-60ddc94b42d9\",\"subtype\":\"Figure\",\"type\":\"Plot\"}},\"id\":\"bf1234e5-466c-4ef8-94c8-7599a768646e\",\"type\":\"PanTool\"},{\"attributes\":{},\"id\":\"db7391c1-1533-4717-b722-d0c4b0301774\",\"type\":\"BasicTicker\"},{\"attributes\":{\"color_mapper\":{\"id\":\"236d8a8c-c146-4956-9ffe-fd344a1bc51f\",\"type\":\"LinearColorMapper\"},\"dh\":{\"field\":\"dh\",\"units\":\"data\"},\"dw\":{\"field\":\"dw\",\"units\":\"data\"},\"image\":{\"field\":\"image\"},\"x\":{\"field\":\"x\"},\"y\":{\"field\":\"y\"}},\"id\":\"ba9efde4-a109-4f56-b7ae-f3b9c31a696a\",\"type\":\"Image\"},{\"attributes\":{\"palette\":[\"#5e4fa2\",\"#3288bd\",\"#66c2a5\",\"#abdda4\",\"#e6f598\",\"#ffffbf\",\"#fee08b\",\"#fdae61\",\"#f46d43\",\"#d53e4f\",\"#9e0142\"]},\"id\":\"236d8a8c-c146-4956-9ffe-fd344a1bc51f\",\"type\":\"LinearColorMapper\"},{\"attributes\":{},\"id\":\"d2145e14-4db8-4c00-b922-f76bd5c5a096\",\"type\":\"BasicTickFormatter\"},{\"attributes\":{\"bottom_units\":\"screen\",\"fill_alpha\":{\"value\":0.5},\"fill_color\":{\"value\":\"lightgrey\"},\"left_units\":\"screen\",\"level\":\"overlay\",\"line_alpha\":{\"value\":1.0},\"line_color\":{\"value\":\"black\"},\"line_dash\":[4,4],\"line_width\":{\"value\":2},\"plot\":null,\"render_mode\":\"css\",\"right_units\":\"screen\",\"top_units\":\"screen\"},\"id\":\"413f2319-c2e1-4947-aa38-ad0cefc16271\",\"type\":\"BoxAnnotation\"},{\"attributes\":{\"data_source\":{\"id\":\"c292d9a2-cf1b-4749-896d-c349fe9b1183\",\"type\":\"ColumnDataSource\"},\"glyph\":{\"id\":\"ba9efde4-a109-4f56-b7ae-f3b9c31a696a\",\"type\":\"Image\"},\"hover_glyph\":null,\"nonselection_glyph\":{\"id\":\"5551385d-d06b-47af-906f-b461fd402148\",\"type\":\"Image\"},\"selection_glyph\":null},\"id\":\"b0da1e88-cf44-4929-9f6d-0f80bd1c7072\",\"type\":\"GlyphRenderer\"},{\"attributes\":{\"plot\":{\"id\":\"9eb4c408-6ba2-4c31-a6dd-60ddc94b42d9\",\"subtype\":\"Figure\",\"type\":\"Plot\"},\"ticker\":{\"id\":\"db7391c1-1533-4717-b722-d0c4b0301774\",\"type\":\"BasicTicker\"}},\"id\":\"fc77ea19-01ff-4a7a-a4ea-d65d9c9097b4\",\"type\":\"Grid\"},{\"attributes\":{\"formatter\":{\"id\":\"fc00f1ff-0c6f-4fa1-9f63-c3fdc5f5332d\",\"type\":\"BasicTickFormatter\"},\"plot\":{\"id\":\"9eb4c408-6ba2-4c31-a6dd-60ddc94b42d9\",\"subtype\":\"Figure\",\"type\":\"Plot\"},\"ticker\":{\"id\":\"db7391c1-1533-4717-b722-d0c4b0301774\",\"type\":\"BasicTicker\"}},\"id\":\"0575121c-8f5e-43ce-909b-61a499489ca5\",\"type\":\"LinearAxis\"},{\"attributes\":{\"plot\":{\"id\":\"9eb4c408-6ba2-4c31-a6dd-60ddc94b42d9\",\"subtype\":\"Figure\",\"type\":\"Plot\"}},\"id\":\"a1be82ca-80a9-4603-9d34-98f7ce26cbda\",\"type\":\"WheelZoomTool\"},{\"attributes\":{\"below\":[{\"id\":\"0575121c-8f5e-43ce-909b-61a499489ca5\",\"type\":\"LinearAxis\"}],\"left\":[{\"id\":\"17c73c3e-3198-4080-836e-a64125d56022\",\"type\":\"LinearAxis\"}],\"plot_height\":550,\"plot_width\":500,\"renderers\":[{\"id\":\"0575121c-8f5e-43ce-909b-61a499489ca5\",\"type\":\"LinearAxis\"},{\"id\":\"fc77ea19-01ff-4a7a-a4ea-d65d9c9097b4\",\"type\":\"Grid\"},{\"id\":\"17c73c3e-3198-4080-836e-a64125d56022\",\"type\":\"LinearAxis\"},{\"id\":\"a7d2739d-f340-49c8-8126-efbd9fd919e9\",\"type\":\"Grid\"},{\"id\":\"413f2319-c2e1-4947-aa38-ad0cefc16271\",\"type\":\"BoxAnnotation\"},{\"id\":\"b0da1e88-cf44-4929-9f6d-0f80bd1c7072\",\"type\":\"GlyphRenderer\"}],\"title\":{\"id\":\"097bed72-5d30-4df7-9927-e2eebe95cb54\",\"type\":\"Title\"},\"tool_events\":{\"id\":\"cb3ccb7e-f99e-4bf3-85ab-f8691ad941ad\",\"type\":\"ToolEvents\"},\"toolbar\":{\"id\":\"63e2b3c8-77c1-4c0a-9066-9cdd3f0ec9d4\",\"type\":\"Toolbar\"},\"x_range\":{\"id\":\"64f88427-69d0-4296-a1e9-189d833509bb\",\"type\":\"Range1d\"},\"y_range\":{\"id\":\"637bec87-f27d-4078-9881-1038f9e3f329\",\"type\":\"Range1d\"}},\"id\":\"9eb4c408-6ba2-4c31-a6dd-60ddc94b42d9\",\"subtype\":\"Figure\",\"type\":\"Plot\"},{\"attributes\":{\"callback\":null,\"column_names\":[\"dh\",\"image\",\"dw\",\"y\",\"x\"],\"data\":{\"dh\":[11],\"dw\":[10],\"image\":[[[0,1,2,3,4,5,6,7,8,9,10],[11,12,13,14,15,16,17,18,19,20,21],[22,23,24,25,26,27,28,29,30,31,32],[33,34,35,36,37,38,39,40,41,42,43],[44,45,46,47,48,49,50,51,52,53,54],[55,56,57,58,59,60,61,62,63,64,65],[66,67,68,69,70,71,72,73,74,75,76],[77,78,79,80,81,82,83,84,85,86,87],[88,89,90,91,92,93,94,95,96,97,98],[99,100,101,102,103,104,105,106,107,108,109]]],\"x\":[0],\"y\":[0]}},\"id\":\"c292d9a2-cf1b-4749-896d-c349fe9b1183\",\"type\":\"ColumnDataSource\"},{\"attributes\":{\"plot\":{\"id\":\"9eb4c408-6ba2-4c31-a6dd-60ddc94b42d9\",\"subtype\":\"Figure\",\"type\":\"Plot\"}},\"id\":\"e4e03be5-b87c-4a3d-847b-10c2e27228bc\",\"type\":\"HelpTool\"},{\"attributes\":{\"active_drag\":\"auto\",\"active_scroll\":\"auto\",\"active_tap\":\"auto\",\"tools\":[{\"id\":\"bf1234e5-466c-4ef8-94c8-7599a768646e\",\"type\":\"PanTool\"},{\"id\":\"a1be82ca-80a9-4603-9d34-98f7ce26cbda\",\"type\":\"WheelZoomTool\"},{\"id\":\"070b8f65-929b-4a81-8a56-d87beb98c48e\",\"type\":\"BoxZoomTool\"},{\"id\":\"3a575c5d-e19f-4e37-822b-aeb29c248048\",\"type\":\"SaveTool\"},{\"id\":\"8116f327-c078-45af-b089-c292feff04d8\",\"type\":\"ResetTool\"},{\"id\":\"e4e03be5-b87c-4a3d-847b-10c2e27228bc\",\"type\":\"HelpTool\"}]},\"id\":\"63e2b3c8-77c1-4c0a-9066-9cdd3f0ec9d4\",\"type\":\"Toolbar\"},{\"attributes\":{\"plot\":{\"id\":\"9eb4c408-6ba2-4c31-a6dd-60ddc94b42d9\",\"subtype\":\"Figure\",\"type\":\"Plot\"}},\"id\":\"8116f327-c078-45af-b089-c292feff04d8\",\"type\":\"ResetTool\"},{\"attributes\":{\"color_mapper\":{\"id\":\"be891d12-d69c-4fec-84f9-0e36ac5aac90\",\"type\":\"LinearColorMapper\"},\"dh\":{\"field\":\"dh\",\"units\":\"data\"},\"dw\":{\"field\":\"dw\",\"units\":\"data\"},\"image\":{\"field\":\"image\"},\"x\":{\"field\":\"x\"},\"y\":{\"field\":\"y\"}},\"id\":\"5551385d-d06b-47af-906f-b461fd402148\",\"type\":\"Image\"},{\"attributes\":{\"plot\":null,\"text\":null},\"id\":\"097bed72-5d30-4df7-9927-e2eebe95cb54\",\"type\":\"Title\"},{\"attributes\":{\"overlay\":{\"id\":\"413f2319-c2e1-4947-aa38-ad0cefc16271\",\"type\":\"BoxAnnotation\"},\"plot\":{\"id\":\"9eb4c408-6ba2-4c31-a6dd-60ddc94b42d9\",\"subtype\":\"Figure\",\"type\":\"Plot\"}},\"id\":\"070b8f65-929b-4a81-8a56-d87beb98c48e\",\"type\":\"BoxZoomTool\"},{\"attributes\":{},\"id\":\"e6a9475e-8e15-4e6e-b558-75a452fd4018\",\"type\":\"BasicTicker\"},{\"attributes\":{\"formatter\":{\"id\":\"d2145e14-4db8-4c00-b922-f76bd5c5a096\",\"type\":\"BasicTickFormatter\"},\"plot\":{\"id\":\"9eb4c408-6ba2-4c31-a6dd-60ddc94b42d9\",\"subtype\":\"Figure\",\"type\":\"Plot\"},\"ticker\":{\"id\":\"e6a9475e-8e15-4e6e-b558-75a452fd4018\",\"type\":\"BasicTicker\"}},\"id\":\"17c73c3e-3198-4080-836e-a64125d56022\",\"type\":\"LinearAxis\"}],\"root_ids\":[\"9eb4c408-6ba2-4c31-a6dd-60ddc94b42d9\"]},\"title\":\"Bokeh Application\",\"version\":\"0.12.3\"}};\n",
       "                var render_items = [{\"docid\":\"4c202f3c-7a16-49d1-bb4c-701289e9fb18\",\"elementid\":\"e1485222-27d5-467f-96db-d13405317909\",\"modelid\":\"9eb4c408-6ba2-4c31-a6dd-60ddc94b42d9\"}];\n",
       "                \n",
       "                Bokeh.embed.embed_items(docs_json, render_items);\n",
       "            });\n",
       "        });\n",
       "        </script>\n",
       "    </body>\n",
       "</html>"
      ],
      "text/plain": [
       "<IPython.core.display.HTML object>"
      ]
     },
     "metadata": {},
     "output_type": "display_data"
    }
   ],
   "source": [
    "a = numpy.arange(110).reshape(10, 11)\n",
    "\n",
    "block_size = 50\n",
    "plot = figure(plot_width=block_size*a.shape[0], plot_height=block_size*a.shape[1],\n",
    "              x_range=[0, a.shape[0]], y_range=[0, a.shape[1]])\n",
    "plot.image(image=[a], x=[0], y=[0],\n",
    "           dw=[a.shape[0]], dh=[a.shape[1]], palette=Spectral11)\n",
    "\n",
    "html = file_html(plot, CDN, \"my plot\")\n",
    "\n",
    "display(HTML(html))"
   ]
  },
  {
   "cell_type": "code",
   "execution_count": null,
   "metadata": {
    "collapsed": true
   },
   "outputs": [],
   "source": []
  }
 ],
 "metadata": {
  "kernelspec": {
   "display_name": "Python 2",
   "language": "python",
   "name": "python2"
  },
  "language_info": {
   "codemirror_mode": {
    "name": "ipython",
    "version": 2
   },
   "file_extension": ".py",
   "mimetype": "text/x-python",
   "name": "python",
   "nbconvert_exporter": "python",
   "pygments_lexer": "ipython2",
   "version": "2.7.12"
  }
 },
 "nbformat": 4,
 "nbformat_minor": 0
}
