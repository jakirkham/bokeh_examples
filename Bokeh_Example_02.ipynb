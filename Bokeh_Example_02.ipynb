{
 "cells": [
  {
   "cell_type": "code",
   "execution_count": 1,
   "metadata": {
    "collapsed": true
   },
   "outputs": [],
   "source": [
    "import numpy\n",
    "\n",
    "from bokeh.plotting import figure\n",
    "from bokeh.resources import CDN\n",
    "from bokeh.embed import file_html\n",
    "from bokeh.palettes import Spectral11\n",
    "\n",
    "from IPython.display import display, HTML"
   ]
  },
  {
   "cell_type": "code",
   "execution_count": 2,
   "metadata": {
    "collapsed": false
   },
   "outputs": [
    {
     "data": {
      "text/html": [
       "<!DOCTYPE html>\n",
       "<html lang=\"en\">\n",
       "    <head>\n",
       "        <meta charset=\"utf-8\">\n",
       "        <title>my plot</title>\n",
       "        \n",
       "<link rel=\"stylesheet\" href=\"http://cdn.pydata.org/bokeh/release/bokeh-0.10.0.min.css\" type=\"text/css\" />\n",
       "        \n",
       "<script type=\"text/javascript\" src=\"http://cdn.pydata.org/bokeh/release/bokeh-0.10.0.min.js\"></script>\n",
       "<script type=\"text/javascript\">\n",
       "    Bokeh.set_log_level(\"info\");\n",
       "</script>\n",
       "    </head>\n",
       "    <body>\n",
       "        <div class=\"plotdiv\" id=\"41973efc-0b07-4093-abf1-37d7b9292b3e\"></div>\n",
       "        <script type=\"text/javascript\">\n",
       "            Bokeh.$(function() {\n",
       "            var all_models = [{\"attributes\": {\"plot\": {\"subtype\": \"Figure\", \"type\": \"Plot\", \"id\": \"17980ba2-2403-49af-a1d6-6e97e2649274\"}, \"tags\": [], \"doc\": null, \"dimension\": 0, \"ticker\": {\"type\": \"BasicTicker\", \"id\": \"1b940c03-9bd5-444e-89bc-a230598c59b4\"}, \"id\": \"6e1c8f23-4138-46bf-a057-873fba9eaaa9\"}, \"type\": \"Grid\", \"id\": \"6e1c8f23-4138-46bf-a057-873fba9eaaa9\"}, {\"attributes\": {\"end\": 11, \"callback\": null, \"doc\": null, \"tags\": [], \"start\": 0, \"id\": \"fadd54be-ce3f-4f99-a361-66507f4b61a8\"}, \"type\": \"Range1d\", \"id\": \"fadd54be-ce3f-4f99-a361-66507f4b61a8\"}, {\"attributes\": {\"plot\": {\"subtype\": \"Figure\", \"type\": \"Plot\", \"id\": \"17980ba2-2403-49af-a1d6-6e97e2649274\"}, \"tags\": [], \"doc\": null, \"id\": \"a617f909-1a6c-4b7b-b0b8-33fa0124144d\"}, \"type\": \"ResetTool\", \"id\": \"a617f909-1a6c-4b7b-b0b8-33fa0124144d\"}, {\"subtype\": \"Figure\", \"type\": \"Plot\", \"id\": \"17980ba2-2403-49af-a1d6-6e97e2649274\", \"attributes\": {\"x_range\": {\"type\": \"Range1d\", \"id\": \"de4ef430-f14a-4e30-a1a5-17ea11a924c2\"}, \"right\": [], \"tags\": [], \"tools\": [{\"type\": \"PanTool\", \"id\": \"a363cc71-c8f8-4330-8de2-ec2006e744d3\"}, {\"type\": \"WheelZoomTool\", \"id\": \"a0ebad88-601f-42b2-88a8-fe78ec430ea5\"}, {\"type\": \"BoxZoomTool\", \"id\": \"8e856055-3963-4967-a802-f4174faeb75c\"}, {\"type\": \"PreviewSaveTool\", \"id\": \"216fdb76-0f79-431f-818e-cd8213d058a0\"}, {\"type\": \"ResizeTool\", \"id\": \"ae705ffe-61cf-46ae-adbd-d9aab2beae60\"}, {\"type\": \"ResetTool\", \"id\": \"a617f909-1a6c-4b7b-b0b8-33fa0124144d\"}, {\"type\": \"HelpTool\", \"id\": \"3f3ac0a9-bef7-4e1f-8be7-97d209c7447e\"}], \"extra_y_ranges\": {}, \"plot_width\": 500, \"renderers\": [{\"type\": \"LinearAxis\", \"id\": \"06b00775-c935-40a6-8a70-19fbbc6ac591\"}, {\"type\": \"Grid\", \"id\": \"6e1c8f23-4138-46bf-a057-873fba9eaaa9\"}, {\"type\": \"LinearAxis\", \"id\": \"98e1fe51-eb68-406f-8e1f-96c825cdb76b\"}, {\"type\": \"Grid\", \"id\": \"81cd1142-a9a2-434b-9f7b-cc6b100f7413\"}, {\"type\": \"GlyphRenderer\", \"id\": \"b76534f1-9f1c-4af5-a52a-11b5f2e24b91\"}], \"extra_x_ranges\": {}, \"plot_height\": 550, \"tool_events\": {\"type\": \"ToolEvents\", \"id\": \"1f845877-4361-44b3-882f-86f95603363d\"}, \"above\": [], \"doc\": null, \"id\": \"17980ba2-2403-49af-a1d6-6e97e2649274\", \"y_range\": {\"type\": \"Range1d\", \"id\": \"fadd54be-ce3f-4f99-a361-66507f4b61a8\"}, \"below\": [{\"type\": \"LinearAxis\", \"id\": \"06b00775-c935-40a6-8a70-19fbbc6ac591\"}], \"left\": [{\"type\": \"LinearAxis\", \"id\": \"98e1fe51-eb68-406f-8e1f-96c825cdb76b\"}]}}, {\"attributes\": {\"plot\": {\"subtype\": \"Figure\", \"type\": \"Plot\", \"id\": \"17980ba2-2403-49af-a1d6-6e97e2649274\"}, \"tags\": [], \"doc\": null, \"dimension\": 1, \"ticker\": {\"type\": \"BasicTicker\", \"id\": \"281b0a09-3b2b-48d4-b7bd-a4aacd1e9cbb\"}, \"id\": \"81cd1142-a9a2-434b-9f7b-cc6b100f7413\"}, \"type\": \"Grid\", \"id\": \"81cd1142-a9a2-434b-9f7b-cc6b100f7413\"}, {\"attributes\": {\"plot\": {\"subtype\": \"Figure\", \"type\": \"Plot\", \"id\": \"17980ba2-2403-49af-a1d6-6e97e2649274\"}, \"dimensions\": [\"width\", \"height\"], \"tags\": [], \"doc\": null, \"id\": \"a363cc71-c8f8-4330-8de2-ec2006e744d3\"}, \"type\": \"PanTool\", \"id\": \"a363cc71-c8f8-4330-8de2-ec2006e744d3\"}, {\"attributes\": {\"tags\": [], \"doc\": null, \"mantissas\": [2, 5, 10], \"id\": \"281b0a09-3b2b-48d4-b7bd-a4aacd1e9cbb\", \"num_minor_ticks\": 5}, \"type\": \"BasicTicker\", \"id\": \"281b0a09-3b2b-48d4-b7bd-a4aacd1e9cbb\"}, {\"attributes\": {\"geometries\": [], \"tags\": [], \"doc\": null, \"id\": \"1f845877-4361-44b3-882f-86f95603363d\"}, \"type\": \"ToolEvents\", \"id\": \"1f845877-4361-44b3-882f-86f95603363d\"}, {\"attributes\": {\"column_names\": [\"dh\", \"image\", \"dw\", \"y\", \"x\"], \"tags\": [], \"doc\": null, \"selected\": {\"2d\": {\"indices\": []}, \"1d\": {\"indices\": []}, \"0d\": {\"indices\": [], \"flag\": false}}, \"callback\": null, \"data\": {\"y\": [0], \"dw\": [10], \"image\": [[[0, 1, 2, 3, 4, 5, 6, 7, 8, 9, 10], [11, 12, 13, 14, 15, 16, 17, 18, 19, 20, 21], [22, 23, 24, 25, 26, 27, 28, 29, 30, 31, 32], [33, 34, 35, 36, 37, 38, 39, 40, 41, 42, 43], [44, 45, 46, 47, 48, 49, 50, 51, 52, 53, 54], [55, 56, 57, 58, 59, 60, 61, 62, 63, 64, 65], [66, 67, 68, 69, 70, 71, 72, 73, 74, 75, 76], [77, 78, 79, 80, 81, 82, 83, 84, 85, 86, 87], [88, 89, 90, 91, 92, 93, 94, 95, 96, 97, 98], [99, 100, 101, 102, 103, 104, 105, 106, 107, 108, 109]]], \"dh\": [11], \"x\": [0]}, \"id\": \"9cd49066-6250-4653-9c9a-3d09627f62d3\"}, \"type\": \"ColumnDataSource\", \"id\": \"9cd49066-6250-4653-9c9a-3d09627f62d3\"}, {\"attributes\": {\"plot\": {\"subtype\": \"Figure\", \"type\": \"Plot\", \"id\": \"17980ba2-2403-49af-a1d6-6e97e2649274\"}, \"tags\": [], \"doc\": null, \"id\": \"216fdb76-0f79-431f-818e-cd8213d058a0\"}, \"type\": \"PreviewSaveTool\", \"id\": \"216fdb76-0f79-431f-818e-cd8213d058a0\"}, {\"attributes\": {\"plot\": {\"subtype\": \"Figure\", \"type\": \"Plot\", \"id\": \"17980ba2-2403-49af-a1d6-6e97e2649274\"}, \"tags\": [], \"doc\": null, \"formatter\": {\"type\": \"BasicTickFormatter\", \"id\": \"b2a4b5df-a814-4023-bcba-8cff9108209f\"}, \"ticker\": {\"type\": \"BasicTicker\", \"id\": \"1b940c03-9bd5-444e-89bc-a230598c59b4\"}, \"id\": \"06b00775-c935-40a6-8a70-19fbbc6ac591\"}, \"type\": \"LinearAxis\", \"id\": \"06b00775-c935-40a6-8a70-19fbbc6ac591\"}, {\"attributes\": {\"plot\": {\"subtype\": \"Figure\", \"type\": \"Plot\", \"id\": \"17980ba2-2403-49af-a1d6-6e97e2649274\"}, \"tags\": [], \"doc\": null, \"id\": \"ae705ffe-61cf-46ae-adbd-d9aab2beae60\"}, \"type\": \"ResizeTool\", \"id\": \"ae705ffe-61cf-46ae-adbd-d9aab2beae60\"}, {\"attributes\": {\"plot\": {\"subtype\": \"Figure\", \"type\": \"Plot\", \"id\": \"17980ba2-2403-49af-a1d6-6e97e2649274\"}, \"dimensions\": [\"width\", \"height\"], \"tags\": [], \"doc\": null, \"id\": \"8e856055-3963-4967-a802-f4174faeb75c\"}, \"type\": \"BoxZoomTool\", \"id\": \"8e856055-3963-4967-a802-f4174faeb75c\"}, {\"attributes\": {\"nonselection_glyph\": {\"type\": \"Image\", \"id\": \"589ae1a7-2929-401e-824f-4a45e2773f90\"}, \"data_source\": {\"type\": \"ColumnDataSource\", \"id\": \"9cd49066-6250-4653-9c9a-3d09627f62d3\"}, \"tags\": [], \"doc\": null, \"selection_glyph\": null, \"id\": \"b76534f1-9f1c-4af5-a52a-11b5f2e24b91\", \"glyph\": {\"type\": \"Image\", \"id\": \"275bd6e2-9d35-40af-92ac-884fa5762bf6\"}}, \"type\": \"GlyphRenderer\", \"id\": \"b76534f1-9f1c-4af5-a52a-11b5f2e24b91\"}, {\"attributes\": {\"color_mapper\": {\"type\": \"LinearColorMapper\", \"id\": \"aa6ede85-7f3c-4b64-bee9-44190dada1f7\"}, \"dh\": {\"units\": \"data\", \"field\": \"dh\"}, \"tags\": [], \"doc\": null, \"image\": {\"field\": \"image\"}, \"x\": {\"field\": \"x\"}, \"y\": {\"field\": \"y\"}, \"dw\": {\"units\": \"data\", \"field\": \"dw\"}, \"id\": \"589ae1a7-2929-401e-824f-4a45e2773f90\"}, \"type\": \"Image\", \"id\": \"589ae1a7-2929-401e-824f-4a45e2773f90\"}, {\"attributes\": {\"plot\": {\"subtype\": \"Figure\", \"type\": \"Plot\", \"id\": \"17980ba2-2403-49af-a1d6-6e97e2649274\"}, \"tags\": [], \"doc\": null, \"formatter\": {\"type\": \"BasicTickFormatter\", \"id\": \"f4da8514-acb5-4aa4-a569-1bcc6ba920b4\"}, \"ticker\": {\"type\": \"BasicTicker\", \"id\": \"281b0a09-3b2b-48d4-b7bd-a4aacd1e9cbb\"}, \"id\": \"98e1fe51-eb68-406f-8e1f-96c825cdb76b\"}, \"type\": \"LinearAxis\", \"id\": \"98e1fe51-eb68-406f-8e1f-96c825cdb76b\"}, {\"attributes\": {\"palette\": [\"#5e4fa2\", \"#3288bd\", \"#66c2a5\", \"#abdda4\", \"#e6f598\", \"#ffffbf\", \"#fee08b\", \"#fdae61\", \"#f46d43\", \"#d53e4f\", \"#9e0142\"], \"tags\": [], \"doc\": null, \"id\": \"564603cc-3c06-42dc-bb42-9bbf2d0933ca\"}, \"type\": \"LinearColorMapper\", \"id\": \"564603cc-3c06-42dc-bb42-9bbf2d0933ca\"}, {\"attributes\": {\"end\": 10, \"callback\": null, \"doc\": null, \"tags\": [], \"start\": 0, \"id\": \"de4ef430-f14a-4e30-a1a5-17ea11a924c2\"}, \"type\": \"Range1d\", \"id\": \"de4ef430-f14a-4e30-a1a5-17ea11a924c2\"}, {\"attributes\": {\"doc\": null, \"id\": \"b2a4b5df-a814-4023-bcba-8cff9108209f\", \"tags\": []}, \"type\": \"BasicTickFormatter\", \"id\": \"b2a4b5df-a814-4023-bcba-8cff9108209f\"}, {\"attributes\": {\"doc\": null, \"id\": \"f4da8514-acb5-4aa4-a569-1bcc6ba920b4\", \"tags\": []}, \"type\": \"BasicTickFormatter\", \"id\": \"f4da8514-acb5-4aa4-a569-1bcc6ba920b4\"}, {\"attributes\": {\"plot\": {\"subtype\": \"Figure\", \"type\": \"Plot\", \"id\": \"17980ba2-2403-49af-a1d6-6e97e2649274\"}, \"dimensions\": [\"width\", \"height\"], \"tags\": [], \"doc\": null, \"id\": \"a0ebad88-601f-42b2-88a8-fe78ec430ea5\"}, \"type\": \"WheelZoomTool\", \"id\": \"a0ebad88-601f-42b2-88a8-fe78ec430ea5\"}, {\"attributes\": {\"color_mapper\": {\"type\": \"LinearColorMapper\", \"id\": \"564603cc-3c06-42dc-bb42-9bbf2d0933ca\"}, \"dh\": {\"units\": \"data\", \"field\": \"dh\"}, \"tags\": [], \"doc\": null, \"image\": {\"field\": \"image\"}, \"x\": {\"field\": \"x\"}, \"y\": {\"field\": \"y\"}, \"dw\": {\"units\": \"data\", \"field\": \"dw\"}, \"id\": \"275bd6e2-9d35-40af-92ac-884fa5762bf6\"}, \"type\": \"Image\", \"id\": \"275bd6e2-9d35-40af-92ac-884fa5762bf6\"}, {\"attributes\": {\"plot\": {\"subtype\": \"Figure\", \"type\": \"Plot\", \"id\": \"17980ba2-2403-49af-a1d6-6e97e2649274\"}, \"tags\": [], \"doc\": null, \"id\": \"3f3ac0a9-bef7-4e1f-8be7-97d209c7447e\"}, \"type\": \"HelpTool\", \"id\": \"3f3ac0a9-bef7-4e1f-8be7-97d209c7447e\"}, {\"attributes\": {\"tags\": [], \"doc\": null, \"mantissas\": [2, 5, 10], \"id\": \"1b940c03-9bd5-444e-89bc-a230598c59b4\", \"num_minor_ticks\": 5}, \"type\": \"BasicTicker\", \"id\": \"1b940c03-9bd5-444e-89bc-a230598c59b4\"}, {\"attributes\": {\"palette\": [\"#5e4fa2\", \"#3288bd\", \"#66c2a5\", \"#abdda4\", \"#e6f598\", \"#ffffbf\", \"#fee08b\", \"#fdae61\", \"#f46d43\", \"#d53e4f\", \"#9e0142\"], \"tags\": [], \"doc\": null, \"id\": \"aa6ede85-7f3c-4b64-bee9-44190dada1f7\"}, \"type\": \"LinearColorMapper\", \"id\": \"aa6ede85-7f3c-4b64-bee9-44190dada1f7\"}];\n",
       "            Bokeh.load_models(all_models);\n",
       "            var plots = [{'modeltype': 'Plot', 'elementid': '41973efc-0b07-4093-abf1-37d7b9292b3e', 'modelid': '17980ba2-2403-49af-a1d6-6e97e2649274'}];\n",
       "            for (idx in plots) {\n",
       "            \tvar plot = plots[idx];\n",
       "            \tvar model = Bokeh.Collections(plot.modeltype).get(plot.modelid);\n",
       "            \tBokeh.logger.info('Realizing plot:')\n",
       "            \tBokeh.logger.info(' - modeltype: ' + plot.modeltype);\n",
       "            \tBokeh.logger.info(' - modelid: ' + plot.modelid);\n",
       "            \tBokeh.logger.info(' - elementid: ' + plot.elementid);\n",
       "            \tvar view = new model.default_view({\n",
       "            \t\tmodel: model,\n",
       "            \t\tel: '#' + plot.elementid\n",
       "            \t});\n",
       "            \tBokeh.index[plot.modelid] = view;\n",
       "            }\n",
       "        });\n",
       "        </script>\n",
       "    </body>\n",
       "</html>"
      ],
      "text/plain": [
       "<IPython.core.display.HTML object>"
      ]
     },
     "metadata": {},
     "output_type": "display_data"
    }
   ],
   "source": [
    "a = numpy.arange(110).reshape(10, 11)\n",
    "\n",
    "block_size = 50\n",
    "plot = figure(plot_width=block_size*a.shape[0], plot_height=block_size*a.shape[1],\n",
    "              x_range=[0, a.shape[0]], y_range=[0, a.shape[1]])\n",
    "plot.image(image=[a], x=[0], y=[0],\n",
    "           dw=[a.shape[0]], dh=[a.shape[1]], palette=Spectral11)\n",
    "\n",
    "html = file_html(plot, CDN, \"my plot\")\n",
    "\n",
    "display(HTML(html))"
   ]
  },
  {
   "cell_type": "code",
   "execution_count": null,
   "metadata": {
    "collapsed": true
   },
   "outputs": [],
   "source": []
  }
 ],
 "metadata": {
  "kernelspec": {
   "display_name": "Python 2",
   "language": "python",
   "name": "python2"
  },
  "language_info": {
   "codemirror_mode": {
    "name": "ipython",
    "version": 2
   },
   "file_extension": ".py",
   "mimetype": "text/x-python",
   "name": "python",
   "nbconvert_exporter": "python",
   "pygments_lexer": "ipython2",
   "version": "2.7.10"
  }
 },
 "nbformat": 4,
 "nbformat_minor": 0
}
