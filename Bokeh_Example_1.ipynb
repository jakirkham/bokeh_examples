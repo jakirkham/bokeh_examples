{
 "cells": [
  {
   "cell_type": "code",
   "execution_count": 1,
   "metadata": {
    "collapsed": true
   },
   "outputs": [],
   "source": [
    "from bokeh.plotting import figure\n",
    "from bokeh.resources import CDN\n",
    "from bokeh.embed import file_html\n",
    "\n",
    "from IPython.display import display, HTML"
   ]
  },
  {
   "cell_type": "code",
   "execution_count": 2,
   "metadata": {
    "collapsed": false
   },
   "outputs": [
    {
     "data": {
      "text/html": [
       "<!DOCTYPE html>\n",
       "<html lang=\"en\">\n",
       "    <head>\n",
       "        <meta charset=\"utf-8\">\n",
       "        <title>my plot</title>\n",
       "        \n",
       "        <link rel=\"stylesheet\" href=\"http://cdn.pydata.org/bokeh/release/bokeh-0.8.2.min.css\" type=\"text/css\" />\n",
       "        <script type=\"text/javascript\" src=\"http://cdn.pydata.org/bokeh/release/bokeh-0.8.2.min.js\"></script>\n",
       "        <script type=\"text/javascript\">\n",
       "            Bokeh.set_log_level(\"info\");\n",
       "        </script>\n",
       "\n",
       "        <script type=\"text/javascript\">\n",
       "            Bokeh.$(function() {\n",
       "                var modelid = \"c3b6fffa-ba34-403b-85bc-5c7d192a78a7\";\n",
       "                var modeltype = \"Plot\";\n",
       "                var elementid = \"1b012604-2421-48d8-89d8-49c954d2c011\";\n",
       "                Bokeh.logger.info(\"Realizing plot:\")\n",
       "                Bokeh.logger.info(\" - modeltype: Plot\");\n",
       "                Bokeh.logger.info(\" - modelid: c3b6fffa-ba34-403b-85bc-5c7d192a78a7\");\n",
       "                Bokeh.logger.info(\" - elementid: 1b012604-2421-48d8-89d8-49c954d2c011\");\n",
       "                var all_models = [{\"attributes\": {\"doc\": null, \"id\": \"d7656396-30d2-453b-a608-96434112f3a6\", \"tags\": []}, \"type\": \"BasicTickFormatter\", \"id\": \"d7656396-30d2-453b-a608-96434112f3a6\"}, {\"attributes\": {\"line_color\": {\"value\": \"#1f77b4\"}, \"line_alpha\": {\"units\": \"data\", \"value\": 0.1}, \"fill_color\": {\"value\": \"#1f77b4\"}, \"tags\": [], \"doc\": null, \"fill_alpha\": {\"units\": \"data\", \"value\": 0.1}, \"y\": {\"units\": \"data\", \"field\": \"y\"}, \"x\": {\"units\": \"data\", \"field\": \"x\"}, \"id\": \"22b2a432-07ca-431b-9ded-61653083dca4\"}, \"type\": \"Circle\", \"id\": \"22b2a432-07ca-431b-9ded-61653083dca4\"}, {\"attributes\": {\"plot\": {\"subtype\": \"Figure\", \"type\": \"Plot\", \"id\": \"c3b6fffa-ba34-403b-85bc-5c7d192a78a7\"}, \"dimensions\": [\"width\", \"height\"], \"tags\": [], \"doc\": null, \"id\": \"58b55560-f49f-4908-86d5-09e450f57584\"}, \"type\": \"PanTool\", \"id\": \"58b55560-f49f-4908-86d5-09e450f57584\"}, {\"attributes\": {\"plot\": {\"subtype\": \"Figure\", \"type\": \"Plot\", \"id\": \"c3b6fffa-ba34-403b-85bc-5c7d192a78a7\"}, \"dimensions\": [\"width\", \"height\"], \"tags\": [], \"doc\": null, \"id\": \"d46f4905-0206-4239-9d5e-6c4327af9fd4\"}, \"type\": \"WheelZoomTool\", \"id\": \"d46f4905-0206-4239-9d5e-6c4327af9fd4\"}, {\"attributes\": {\"nonselection_glyph\": {\"type\": \"Circle\", \"id\": \"22b2a432-07ca-431b-9ded-61653083dca4\"}, \"data_source\": {\"type\": \"ColumnDataSource\", \"id\": \"b31d5c85-fd22-45ca-ac96-929ae5b02d54\"}, \"name\": null, \"tags\": [], \"doc\": null, \"selection_glyph\": null, \"id\": \"14b60e4f-3db1-47f5-afc4-cd396c32b4fd\", \"glyph\": {\"type\": \"Circle\", \"id\": \"ff036ed5-de63-477c-8ac1-c76f43f5e3a7\"}}, \"type\": \"GlyphRenderer\", \"id\": \"14b60e4f-3db1-47f5-afc4-cd396c32b4fd\"}, {\"attributes\": {\"plot\": {\"subtype\": \"Figure\", \"type\": \"Plot\", \"id\": \"c3b6fffa-ba34-403b-85bc-5c7d192a78a7\"}, \"tags\": [], \"doc\": null, \"id\": \"10b00f36-eb68-468d-803e-4782ded548ea\"}, \"type\": \"PreviewSaveTool\", \"id\": \"10b00f36-eb68-468d-803e-4782ded548ea\"}, {\"attributes\": {\"plot\": {\"subtype\": \"Figure\", \"type\": \"Plot\", \"id\": \"c3b6fffa-ba34-403b-85bc-5c7d192a78a7\"}, \"tags\": [], \"doc\": null, \"id\": \"4b8050ce-e9bb-4f71-971a-ca343f3194e6\"}, \"type\": \"ResizeTool\", \"id\": \"4b8050ce-e9bb-4f71-971a-ca343f3194e6\"}, {\"attributes\": {\"plot\": {\"subtype\": \"Figure\", \"type\": \"Plot\", \"id\": \"c3b6fffa-ba34-403b-85bc-5c7d192a78a7\"}, \"tags\": [], \"doc\": null, \"dimension\": 1, \"ticker\": {\"type\": \"BasicTicker\", \"id\": \"b515c2fd-dd33-4fe5-81e1-7d9c577057dd\"}, \"id\": \"629f4a20-af59-432b-8e7a-a66708af4502\"}, \"type\": \"Grid\", \"id\": \"629f4a20-af59-432b-8e7a-a66708af4502\"}, {\"attributes\": {\"plot\": {\"subtype\": \"Figure\", \"type\": \"Plot\", \"id\": \"c3b6fffa-ba34-403b-85bc-5c7d192a78a7\"}, \"tags\": [], \"doc\": null, \"formatter\": {\"type\": \"BasicTickFormatter\", \"id\": \"d7656396-30d2-453b-a608-96434112f3a6\"}, \"ticker\": {\"type\": \"BasicTicker\", \"id\": \"b515c2fd-dd33-4fe5-81e1-7d9c577057dd\"}, \"id\": \"500220d0-edd1-4e72-bea4-4f069f3cc898\"}, \"type\": \"LinearAxis\", \"id\": \"500220d0-edd1-4e72-bea4-4f069f3cc898\"}, {\"attributes\": {\"column_names\": [\"x\", \"y\"], \"tags\": [], \"doc\": null, \"selected\": [], \"data\": {\"y\": [3, 4], \"x\": [1, 2]}, \"id\": \"b31d5c85-fd22-45ca-ac96-929ae5b02d54\"}, \"type\": \"ColumnDataSource\", \"id\": \"b31d5c85-fd22-45ca-ac96-929ae5b02d54\"}, {\"subtype\": \"Figure\", \"type\": \"Plot\", \"id\": \"c3b6fffa-ba34-403b-85bc-5c7d192a78a7\", \"attributes\": {\"x_range\": {\"type\": \"DataRange1d\", \"id\": \"6cc6ebbd-821c-49c6-9764-579d94bf5057\"}, \"right\": [], \"tags\": [], \"y_range\": {\"type\": \"DataRange1d\", \"id\": \"ad96d115-960e-48f7-b240-8c419e4ba17e\"}, \"renderers\": [{\"type\": \"LinearAxis\", \"id\": \"4ff9c4b2-b809-4ec9-91ef-b98e775ce9fd\"}, {\"type\": \"Grid\", \"id\": \"05d29b62-1e23-4b73-aa60-a27635b428c7\"}, {\"type\": \"LinearAxis\", \"id\": \"500220d0-edd1-4e72-bea4-4f069f3cc898\"}, {\"type\": \"Grid\", \"id\": \"629f4a20-af59-432b-8e7a-a66708af4502\"}, {\"type\": \"GlyphRenderer\", \"id\": \"14b60e4f-3db1-47f5-afc4-cd396c32b4fd\"}], \"extra_y_ranges\": {}, \"extra_x_ranges\": {}, \"tool_events\": {\"type\": \"ToolEvents\", \"id\": \"201e72c3-ffbf-4004-9b8e-b44a9ef856fc\"}, \"above\": [], \"doc\": null, \"id\": \"c3b6fffa-ba34-403b-85bc-5c7d192a78a7\", \"tools\": [{\"type\": \"PanTool\", \"id\": \"58b55560-f49f-4908-86d5-09e450f57584\"}, {\"type\": \"WheelZoomTool\", \"id\": \"d46f4905-0206-4239-9d5e-6c4327af9fd4\"}, {\"type\": \"BoxZoomTool\", \"id\": \"466cd251-8165-4229-85b2-aacab8aa60ab\"}, {\"type\": \"PreviewSaveTool\", \"id\": \"10b00f36-eb68-468d-803e-4782ded548ea\"}, {\"type\": \"ResizeTool\", \"id\": \"4b8050ce-e9bb-4f71-971a-ca343f3194e6\"}, {\"type\": \"ResetTool\", \"id\": \"3ed09666-cb88-492b-b45a-30169088f264\"}], \"below\": [{\"type\": \"LinearAxis\", \"id\": \"4ff9c4b2-b809-4ec9-91ef-b98e775ce9fd\"}], \"left\": [{\"type\": \"LinearAxis\", \"id\": \"500220d0-edd1-4e72-bea4-4f069f3cc898\"}]}}, {\"attributes\": {\"geometries\": [], \"tags\": [], \"doc\": null, \"id\": \"201e72c3-ffbf-4004-9b8e-b44a9ef856fc\"}, \"type\": \"ToolEvents\", \"id\": \"201e72c3-ffbf-4004-9b8e-b44a9ef856fc\"}, {\"attributes\": {\"plot\": {\"subtype\": \"Figure\", \"type\": \"Plot\", \"id\": \"c3b6fffa-ba34-403b-85bc-5c7d192a78a7\"}, \"tags\": [], \"doc\": null, \"id\": \"3ed09666-cb88-492b-b45a-30169088f264\"}, \"type\": \"ResetTool\", \"id\": \"3ed09666-cb88-492b-b45a-30169088f264\"}, {\"attributes\": {\"doc\": null, \"id\": \"c57998ae-c5e8-4851-83b5-9f2d36dda233\", \"tags\": []}, \"type\": \"BasicTickFormatter\", \"id\": \"c57998ae-c5e8-4851-83b5-9f2d36dda233\"}, {\"attributes\": {\"plot\": {\"subtype\": \"Figure\", \"type\": \"Plot\", \"id\": \"c3b6fffa-ba34-403b-85bc-5c7d192a78a7\"}, \"tags\": [], \"doc\": null, \"dimension\": 0, \"ticker\": {\"type\": \"BasicTicker\", \"id\": \"cf810952-d6d7-4e37-bb30-6e10073fa0ae\"}, \"id\": \"05d29b62-1e23-4b73-aa60-a27635b428c7\"}, \"type\": \"Grid\", \"id\": \"05d29b62-1e23-4b73-aa60-a27635b428c7\"}, {\"attributes\": {\"sources\": [{\"source\": {\"type\": \"ColumnDataSource\", \"id\": \"b31d5c85-fd22-45ca-ac96-929ae5b02d54\"}, \"columns\": [\"x\"]}], \"tags\": [], \"doc\": null, \"id\": \"6cc6ebbd-821c-49c6-9764-579d94bf5057\"}, \"type\": \"DataRange1d\", \"id\": \"6cc6ebbd-821c-49c6-9764-579d94bf5057\"}, {\"attributes\": {\"sources\": [{\"source\": {\"type\": \"ColumnDataSource\", \"id\": \"b31d5c85-fd22-45ca-ac96-929ae5b02d54\"}, \"columns\": [\"y\"]}], \"tags\": [], \"doc\": null, \"id\": \"ad96d115-960e-48f7-b240-8c419e4ba17e\"}, \"type\": \"DataRange1d\", \"id\": \"ad96d115-960e-48f7-b240-8c419e4ba17e\"}, {\"attributes\": {\"plot\": {\"subtype\": \"Figure\", \"type\": \"Plot\", \"id\": \"c3b6fffa-ba34-403b-85bc-5c7d192a78a7\"}, \"tags\": [], \"doc\": null, \"formatter\": {\"type\": \"BasicTickFormatter\", \"id\": \"c57998ae-c5e8-4851-83b5-9f2d36dda233\"}, \"ticker\": {\"type\": \"BasicTicker\", \"id\": \"cf810952-d6d7-4e37-bb30-6e10073fa0ae\"}, \"id\": \"4ff9c4b2-b809-4ec9-91ef-b98e775ce9fd\"}, \"type\": \"LinearAxis\", \"id\": \"4ff9c4b2-b809-4ec9-91ef-b98e775ce9fd\"}, {\"attributes\": {\"tags\": [], \"doc\": null, \"mantissas\": [2, 5, 10], \"id\": \"cf810952-d6d7-4e37-bb30-6e10073fa0ae\", \"num_minor_ticks\": 5}, \"type\": \"BasicTicker\", \"id\": \"cf810952-d6d7-4e37-bb30-6e10073fa0ae\"}, {\"attributes\": {\"tags\": [], \"doc\": null, \"mantissas\": [2, 5, 10], \"id\": \"b515c2fd-dd33-4fe5-81e1-7d9c577057dd\", \"num_minor_ticks\": 5}, \"type\": \"BasicTicker\", \"id\": \"b515c2fd-dd33-4fe5-81e1-7d9c577057dd\"}, {\"attributes\": {\"line_color\": {\"value\": \"#1f77b4\"}, \"line_alpha\": {\"units\": \"data\", \"value\": 1.0}, \"fill_color\": {\"value\": \"#1f77b4\"}, \"tags\": [], \"doc\": null, \"fill_alpha\": {\"units\": \"data\", \"value\": 1.0}, \"y\": {\"units\": \"data\", \"field\": \"y\"}, \"x\": {\"units\": \"data\", \"field\": \"x\"}, \"id\": \"ff036ed5-de63-477c-8ac1-c76f43f5e3a7\"}, \"type\": \"Circle\", \"id\": \"ff036ed5-de63-477c-8ac1-c76f43f5e3a7\"}, {\"attributes\": {\"plot\": {\"subtype\": \"Figure\", \"type\": \"Plot\", \"id\": \"c3b6fffa-ba34-403b-85bc-5c7d192a78a7\"}, \"dimensions\": [\"width\", \"height\"], \"tags\": [], \"doc\": null, \"id\": \"466cd251-8165-4229-85b2-aacab8aa60ab\"}, \"type\": \"BoxZoomTool\", \"id\": \"466cd251-8165-4229-85b2-aacab8aa60ab\"}];\n",
       "                Bokeh.load_models(all_models);\n",
       "                var model = Bokeh.Collections(modeltype).get(modelid);\n",
       "                var view = new model.default_view({model: model, el: '#1b012604-2421-48d8-89d8-49c954d2c011'});\n",
       "                Bokeh.index[modelid] = view\n",
       "            });\n",
       "        </script>\n",
       "    </head>\n",
       "    <body>\n",
       "        <div class=\"plotdiv\" id=\"1b012604-2421-48d8-89d8-49c954d2c011\"></div>\n",
       "    </body>\n",
       "</html>"
      ],
      "text/plain": [
       "<IPython.core.display.HTML object>"
      ]
     },
     "metadata": {},
     "output_type": "display_data"
    }
   ],
   "source": [
    "plot = figure()\n",
    "plot.circle([1,2], [3,4])\n",
    "\n",
    "html = file_html(plot, CDN, \"my plot\")\n",
    "\n",
    "display(HTML(html))"
   ]
  },
  {
   "cell_type": "code",
   "execution_count": null,
   "metadata": {
    "collapsed": true
   },
   "outputs": [],
   "source": []
  }
 ],
 "metadata": {
  "kernelspec": {
   "display_name": "Python 2",
   "language": "python",
   "name": "python2"
  },
  "language_info": {
   "codemirror_mode": {
    "name": "ipython",
    "version": 2
   },
   "file_extension": ".py",
   "mimetype": "text/x-python",
   "name": "python",
   "nbconvert_exporter": "python",
   "pygments_lexer": "ipython2",
   "version": "2.7.9"
  }
 },
 "nbformat": 4,
 "nbformat_minor": 0
}
