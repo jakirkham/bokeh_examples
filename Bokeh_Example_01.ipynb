{
 "cells": [
  {
   "cell_type": "code",
   "execution_count": 1,
   "metadata": {
    "collapsed": true
   },
   "outputs": [],
   "source": [
    "from bokeh.plotting import figure\n",
    "from bokeh.resources import CDN\n",
    "from bokeh.embed import file_html\n",
    "\n",
    "from IPython.display import display, HTML"
   ]
  },
  {
   "cell_type": "code",
   "execution_count": 2,
   "metadata": {
    "collapsed": false
   },
   "outputs": [
    {
     "data": {
      "text/html": [
       "\n",
       "<!DOCTYPE html>\n",
       "<html lang=\"en\">\n",
       "    <head>\n",
       "        <meta charset=\"utf-8\">\n",
       "        <title>my plot</title>\n",
       "        \n",
       "<link rel=\"stylesheet\" href=\"https://cdn.pydata.org/bokeh/release/bokeh-0.12.3.min.css\" type=\"text/css\" />\n",
       "        \n",
       "<script type=\"text/javascript\" src=\"https://cdn.pydata.org/bokeh/release/bokeh-0.12.3.min.js\"></script>\n",
       "<script type=\"text/javascript\">\n",
       "    Bokeh.set_log_level(\"info\");\n",
       "</script>\n",
       "        <style>\n",
       "          html {\n",
       "            width: 100%;\n",
       "            height: 100%;\n",
       "          }\n",
       "          body {\n",
       "            width: 90%;\n",
       "            height: 100%;\n",
       "            margin: auto;\n",
       "          }\n",
       "        </style>\n",
       "    </head>\n",
       "    <body>\n",
       "        \n",
       "        <div class=\"bk-root\">\n",
       "            <div class=\"plotdiv\" id=\"e0945e3d-46ab-4724-800f-b9f77d30d8e4\"></div>\n",
       "        </div>\n",
       "        \n",
       "        <script type=\"text/javascript\">\n",
       "            Bokeh.$(function() {\n",
       "            Bokeh.safely(function() {\n",
       "                var docs_json = {\"5f706a43-f8fb-48da-9ec5-5a37a283ff0b\":{\"roots\":{\"references\":[{\"attributes\":{\"callback\":null},\"id\":\"d6523bb7-767e-4a30-9f26-d11d8c3c6103\",\"type\":\"DataRange1d\"},{\"attributes\":{\"fill_color\":{\"value\":\"#1f77b4\"},\"line_color\":{\"value\":\"#1f77b4\"},\"x\":{\"field\":\"x\"},\"y\":{\"field\":\"y\"}},\"id\":\"8a0a617c-b847-458e-9c02-77567292c8ba\",\"type\":\"Circle\"},{\"attributes\":{\"plot\":null,\"text\":null},\"id\":\"4dc03c2d-a09c-448d-afe3-079cede87fea\",\"type\":\"Title\"},{\"attributes\":{},\"id\":\"316f9875-dec8-475d-bf74-dd1603056a06\",\"type\":\"BasicTickFormatter\"},{\"attributes\":{\"overlay\":{\"id\":\"80d69517-e4d1-4535-b7c4-803d928da716\",\"type\":\"BoxAnnotation\"},\"plot\":{\"id\":\"ee5ee9ed-627b-4677-9fdc-6be5dc603d27\",\"subtype\":\"Figure\",\"type\":\"Plot\"}},\"id\":\"f25b6345-277c-4f54-871b-ad2defc5d8b2\",\"type\":\"BoxZoomTool\"},{\"attributes\":{\"plot\":{\"id\":\"ee5ee9ed-627b-4677-9fdc-6be5dc603d27\",\"subtype\":\"Figure\",\"type\":\"Plot\"}},\"id\":\"50f61c14-7750-48c6-9bff-a4c179a4a4c6\",\"type\":\"ResetTool\"},{\"attributes\":{\"plot\":{\"id\":\"ee5ee9ed-627b-4677-9fdc-6be5dc603d27\",\"subtype\":\"Figure\",\"type\":\"Plot\"}},\"id\":\"a9fdb906-1ece-43fd-bc4b-ac86f39c5a9d\",\"type\":\"SaveTool\"},{\"attributes\":{\"dimension\":1,\"plot\":{\"id\":\"ee5ee9ed-627b-4677-9fdc-6be5dc603d27\",\"subtype\":\"Figure\",\"type\":\"Plot\"},\"ticker\":{\"id\":\"9b35bc49-c585-4d64-87eb-32f0e6dee9d3\",\"type\":\"BasicTicker\"}},\"id\":\"efd1637a-1a33-4b29-9312-c5ac0fbb3625\",\"type\":\"Grid\"},{\"attributes\":{\"below\":[{\"id\":\"1444351e-1690-4192-8907-c8a68ad00dcb\",\"type\":\"LinearAxis\"}],\"left\":[{\"id\":\"c49d3ea4-97e6-41bb-bbcc-3d911323b175\",\"type\":\"LinearAxis\"}],\"renderers\":[{\"id\":\"1444351e-1690-4192-8907-c8a68ad00dcb\",\"type\":\"LinearAxis\"},{\"id\":\"8724e6a2-dfbf-4dca-a42a-834fd702347f\",\"type\":\"Grid\"},{\"id\":\"c49d3ea4-97e6-41bb-bbcc-3d911323b175\",\"type\":\"LinearAxis\"},{\"id\":\"efd1637a-1a33-4b29-9312-c5ac0fbb3625\",\"type\":\"Grid\"},{\"id\":\"80d69517-e4d1-4535-b7c4-803d928da716\",\"type\":\"BoxAnnotation\"},{\"id\":\"ceaf7ee6-08d7-4bfe-9bba-25a6c062cd7b\",\"type\":\"GlyphRenderer\"}],\"title\":{\"id\":\"4dc03c2d-a09c-448d-afe3-079cede87fea\",\"type\":\"Title\"},\"tool_events\":{\"id\":\"23ccbe6e-5988-4170-9fe8-5d829250b0d6\",\"type\":\"ToolEvents\"},\"toolbar\":{\"id\":\"05017057-e9fe-4d3f-ab16-712e81e019da\",\"type\":\"Toolbar\"},\"x_range\":{\"id\":\"d6523bb7-767e-4a30-9f26-d11d8c3c6103\",\"type\":\"DataRange1d\"},\"y_range\":{\"id\":\"49dc585b-dfdc-421b-ad46-3d633164b3b2\",\"type\":\"DataRange1d\"}},\"id\":\"ee5ee9ed-627b-4677-9fdc-6be5dc603d27\",\"subtype\":\"Figure\",\"type\":\"Plot\"},{\"attributes\":{\"plot\":{\"id\":\"ee5ee9ed-627b-4677-9fdc-6be5dc603d27\",\"subtype\":\"Figure\",\"type\":\"Plot\"}},\"id\":\"c28a254f-44bd-4e6e-8ca4-83935e906cdd\",\"type\":\"WheelZoomTool\"},{\"attributes\":{\"plot\":{\"id\":\"ee5ee9ed-627b-4677-9fdc-6be5dc603d27\",\"subtype\":\"Figure\",\"type\":\"Plot\"},\"ticker\":{\"id\":\"54e36258-2441-4f91-b62f-20952c77e5d1\",\"type\":\"BasicTicker\"}},\"id\":\"8724e6a2-dfbf-4dca-a42a-834fd702347f\",\"type\":\"Grid\"},{\"attributes\":{\"callback\":null},\"id\":\"49dc585b-dfdc-421b-ad46-3d633164b3b2\",\"type\":\"DataRange1d\"},{\"attributes\":{\"formatter\":{\"id\":\"316f9875-dec8-475d-bf74-dd1603056a06\",\"type\":\"BasicTickFormatter\"},\"plot\":{\"id\":\"ee5ee9ed-627b-4677-9fdc-6be5dc603d27\",\"subtype\":\"Figure\",\"type\":\"Plot\"},\"ticker\":{\"id\":\"54e36258-2441-4f91-b62f-20952c77e5d1\",\"type\":\"BasicTicker\"}},\"id\":\"1444351e-1690-4192-8907-c8a68ad00dcb\",\"type\":\"LinearAxis\"},{\"attributes\":{\"plot\":{\"id\":\"ee5ee9ed-627b-4677-9fdc-6be5dc603d27\",\"subtype\":\"Figure\",\"type\":\"Plot\"}},\"id\":\"ff220f2a-046b-4089-b4f4-ea530b34d145\",\"type\":\"PanTool\"},{\"attributes\":{},\"id\":\"23ccbe6e-5988-4170-9fe8-5d829250b0d6\",\"type\":\"ToolEvents\"},{\"attributes\":{\"formatter\":{\"id\":\"bf057df9-d5b4-4b11-a1b2-90cba5b0b8ba\",\"type\":\"BasicTickFormatter\"},\"plot\":{\"id\":\"ee5ee9ed-627b-4677-9fdc-6be5dc603d27\",\"subtype\":\"Figure\",\"type\":\"Plot\"},\"ticker\":{\"id\":\"9b35bc49-c585-4d64-87eb-32f0e6dee9d3\",\"type\":\"BasicTicker\"}},\"id\":\"c49d3ea4-97e6-41bb-bbcc-3d911323b175\",\"type\":\"LinearAxis\"},{\"attributes\":{\"callback\":null,\"column_names\":[\"y\",\"x\"],\"data\":{\"x\":[1,2],\"y\":[3,4]}},\"id\":\"1a8faf1f-d861-4fc5-9863-26681bea11f5\",\"type\":\"ColumnDataSource\"},{\"attributes\":{\"plot\":{\"id\":\"ee5ee9ed-627b-4677-9fdc-6be5dc603d27\",\"subtype\":\"Figure\",\"type\":\"Plot\"}},\"id\":\"d4358bc0-c154-4297-935c-86fc88d1259e\",\"type\":\"HelpTool\"},{\"attributes\":{},\"id\":\"bf057df9-d5b4-4b11-a1b2-90cba5b0b8ba\",\"type\":\"BasicTickFormatter\"},{\"attributes\":{\"bottom_units\":\"screen\",\"fill_alpha\":{\"value\":0.5},\"fill_color\":{\"value\":\"lightgrey\"},\"left_units\":\"screen\",\"level\":\"overlay\",\"line_alpha\":{\"value\":1.0},\"line_color\":{\"value\":\"black\"},\"line_dash\":[4,4],\"line_width\":{\"value\":2},\"plot\":null,\"render_mode\":\"css\",\"right_units\":\"screen\",\"top_units\":\"screen\"},\"id\":\"80d69517-e4d1-4535-b7c4-803d928da716\",\"type\":\"BoxAnnotation\"},{\"attributes\":{\"fill_alpha\":{\"value\":0.1},\"fill_color\":{\"value\":\"#1f77b4\"},\"line_alpha\":{\"value\":0.1},\"line_color\":{\"value\":\"#1f77b4\"},\"x\":{\"field\":\"x\"},\"y\":{\"field\":\"y\"}},\"id\":\"176d22eb-8dea-40ed-b9db-a961f26c8fb0\",\"type\":\"Circle\"},{\"attributes\":{\"data_source\":{\"id\":\"1a8faf1f-d861-4fc5-9863-26681bea11f5\",\"type\":\"ColumnDataSource\"},\"glyph\":{\"id\":\"8a0a617c-b847-458e-9c02-77567292c8ba\",\"type\":\"Circle\"},\"hover_glyph\":null,\"nonselection_glyph\":{\"id\":\"176d22eb-8dea-40ed-b9db-a961f26c8fb0\",\"type\":\"Circle\"},\"selection_glyph\":null},\"id\":\"ceaf7ee6-08d7-4bfe-9bba-25a6c062cd7b\",\"type\":\"GlyphRenderer\"},{\"attributes\":{},\"id\":\"9b35bc49-c585-4d64-87eb-32f0e6dee9d3\",\"type\":\"BasicTicker\"},{\"attributes\":{\"active_drag\":\"auto\",\"active_scroll\":\"auto\",\"active_tap\":\"auto\",\"tools\":[{\"id\":\"ff220f2a-046b-4089-b4f4-ea530b34d145\",\"type\":\"PanTool\"},{\"id\":\"c28a254f-44bd-4e6e-8ca4-83935e906cdd\",\"type\":\"WheelZoomTool\"},{\"id\":\"f25b6345-277c-4f54-871b-ad2defc5d8b2\",\"type\":\"BoxZoomTool\"},{\"id\":\"a9fdb906-1ece-43fd-bc4b-ac86f39c5a9d\",\"type\":\"SaveTool\"},{\"id\":\"50f61c14-7750-48c6-9bff-a4c179a4a4c6\",\"type\":\"ResetTool\"},{\"id\":\"d4358bc0-c154-4297-935c-86fc88d1259e\",\"type\":\"HelpTool\"}]},\"id\":\"05017057-e9fe-4d3f-ab16-712e81e019da\",\"type\":\"Toolbar\"},{\"attributes\":{},\"id\":\"54e36258-2441-4f91-b62f-20952c77e5d1\",\"type\":\"BasicTicker\"}],\"root_ids\":[\"ee5ee9ed-627b-4677-9fdc-6be5dc603d27\"]},\"title\":\"Bokeh Application\",\"version\":\"0.12.3\"}};\n",
       "                var render_items = [{\"docid\":\"5f706a43-f8fb-48da-9ec5-5a37a283ff0b\",\"elementid\":\"e0945e3d-46ab-4724-800f-b9f77d30d8e4\",\"modelid\":\"ee5ee9ed-627b-4677-9fdc-6be5dc603d27\"}];\n",
       "                \n",
       "                Bokeh.embed.embed_items(docs_json, render_items);\n",
       "            });\n",
       "        });\n",
       "        </script>\n",
       "    </body>\n",
       "</html>"
      ],
      "text/plain": [
       "<IPython.core.display.HTML object>"
      ]
     },
     "metadata": {},
     "output_type": "display_data"
    }
   ],
   "source": [
    "plot = figure()\n",
    "plot.circle([1,2], [3,4])\n",
    "\n",
    "html = file_html(plot, CDN, \"my plot\")\n",
    "\n",
    "display(HTML(html))"
   ]
  },
  {
   "cell_type": "code",
   "execution_count": null,
   "metadata": {
    "collapsed": true
   },
   "outputs": [],
   "source": []
  }
 ],
 "metadata": {
  "kernelspec": {
   "display_name": "Python 2",
   "language": "python",
   "name": "python2"
  },
  "language_info": {
   "codemirror_mode": {
    "name": "ipython",
    "version": 2
   },
   "file_extension": ".py",
   "mimetype": "text/x-python",
   "name": "python",
   "nbconvert_exporter": "python",
   "pygments_lexer": "ipython2",
   "version": "2.7.12"
  }
 },
 "nbformat": 4,
 "nbformat_minor": 0
}
