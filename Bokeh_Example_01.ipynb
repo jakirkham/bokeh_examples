{
 "cells": [
  {
   "cell_type": "code",
   "execution_count": 1,
   "metadata": {
    "collapsed": true
   },
   "outputs": [],
   "source": [
    "from bokeh.plotting import figure\n",
    "from bokeh.resources import CDN\n",
    "from bokeh.embed import file_html\n",
    "\n",
    "from IPython.display import display, HTML"
   ]
  },
  {
   "cell_type": "code",
   "execution_count": 2,
   "metadata": {
    "collapsed": false
   },
   "outputs": [
    {
     "data": {
      "text/html": [
       "<!DOCTYPE html>\n",
       "<html lang=\"en\">\n",
       "    <head>\n",
       "        <meta charset=\"utf-8\">\n",
       "        <title>my plot</title>\n",
       "        \n",
       "<link rel=\"stylesheet\" href=\"http://cdn.pydata.org/bokeh/release/bokeh-0.10.0.min.css\" type=\"text/css\" />\n",
       "        \n",
       "<script type=\"text/javascript\" src=\"http://cdn.pydata.org/bokeh/release/bokeh-0.10.0.min.js\"></script>\n",
       "<script type=\"text/javascript\">\n",
       "    Bokeh.set_log_level(\"info\");\n",
       "</script>\n",
       "    </head>\n",
       "    <body>\n",
       "        <div class=\"plotdiv\" id=\"f21c384f-fc97-47d2-8a67-b6b5b8167922\"></div>\n",
       "        <script type=\"text/javascript\">\n",
       "            Bokeh.$(function() {\n",
       "            var all_models = [{\"attributes\": {\"plot\": {\"subtype\": \"Figure\", \"type\": \"Plot\", \"id\": \"f147037b-25d4-4d86-a957-c684c609e80e\"}, \"dimensions\": [\"width\", \"height\"], \"tags\": [], \"doc\": null, \"id\": \"67bcafdf-7c9f-4d94-9476-54d4c3773a51\"}, \"type\": \"PanTool\", \"id\": \"67bcafdf-7c9f-4d94-9476-54d4c3773a51\"}, {\"attributes\": {\"plot\": {\"subtype\": \"Figure\", \"type\": \"Plot\", \"id\": \"f147037b-25d4-4d86-a957-c684c609e80e\"}, \"tags\": [], \"doc\": null, \"id\": \"752039d2-a278-45fa-9d88-e8e1af46d464\"}, \"type\": \"HelpTool\", \"id\": \"752039d2-a278-45fa-9d88-e8e1af46d464\"}, {\"subtype\": \"Figure\", \"type\": \"Plot\", \"id\": \"f147037b-25d4-4d86-a957-c684c609e80e\", \"attributes\": {\"x_range\": {\"type\": \"DataRange1d\", \"id\": \"5531c59b-d09b-4625-8c93-bcd5ab35fe1c\"}, \"right\": [], \"tags\": [], \"y_range\": {\"type\": \"DataRange1d\", \"id\": \"9adc81ee-bc60-4a99-abb2-dd0a6e7d832c\"}, \"renderers\": [{\"type\": \"LinearAxis\", \"id\": \"3abf3e1c-2502-4119-a066-a4ddc52db29a\"}, {\"type\": \"Grid\", \"id\": \"ba8dc995-012b-4cd3-8c9a-5f09eed214b9\"}, {\"type\": \"LinearAxis\", \"id\": \"c83546d4-e53c-4ca7-aa23-9eec93b490e3\"}, {\"type\": \"Grid\", \"id\": \"0dcdbdc5-60e0-435c-b27c-6d45dcc7e4be\"}, {\"type\": \"GlyphRenderer\", \"id\": \"b8da9077-1c90-4a54-8be5-eec0092de4a0\"}], \"extra_y_ranges\": {}, \"extra_x_ranges\": {}, \"tool_events\": {\"type\": \"ToolEvents\", \"id\": \"f944d2a3-f6d6-4aea-8c4e-a33d8f887710\"}, \"above\": [], \"doc\": null, \"id\": \"f147037b-25d4-4d86-a957-c684c609e80e\", \"tools\": [{\"type\": \"PanTool\", \"id\": \"67bcafdf-7c9f-4d94-9476-54d4c3773a51\"}, {\"type\": \"WheelZoomTool\", \"id\": \"c625da97-02fc-45d0-b85a-44192e509406\"}, {\"type\": \"BoxZoomTool\", \"id\": \"bb747f1a-e147-4753-a15a-a38e6b96b6fe\"}, {\"type\": \"PreviewSaveTool\", \"id\": \"24e4c1b5-588a-4a1c-a494-a27d75e67e7c\"}, {\"type\": \"ResizeTool\", \"id\": \"b10e2328-6c6f-4a37-96aa-0903ae4e1ac5\"}, {\"type\": \"ResetTool\", \"id\": \"aeb72674-3712-4f34-b2ec-c4c2a15ef20e\"}, {\"type\": \"HelpTool\", \"id\": \"752039d2-a278-45fa-9d88-e8e1af46d464\"}], \"below\": [{\"type\": \"LinearAxis\", \"id\": \"3abf3e1c-2502-4119-a066-a4ddc52db29a\"}], \"left\": [{\"type\": \"LinearAxis\", \"id\": \"c83546d4-e53c-4ca7-aa23-9eec93b490e3\"}]}}, {\"attributes\": {\"doc\": null, \"id\": \"3c112c8f-ad6d-4437-9648-59c431c05e55\", \"tags\": []}, \"type\": \"BasicTickFormatter\", \"id\": \"3c112c8f-ad6d-4437-9648-59c431c05e55\"}, {\"attributes\": {\"line_color\": {\"value\": \"#1f77b4\"}, \"line_alpha\": {\"value\": 1.0}, \"fill_color\": {\"value\": \"#1f77b4\"}, \"tags\": [], \"doc\": null, \"fill_alpha\": {\"value\": 1.0}, \"y\": {\"field\": \"y\"}, \"x\": {\"field\": \"x\"}, \"id\": \"57b91273-a23c-43d7-9cee-5e6c90f0cfc1\"}, \"type\": \"Circle\", \"id\": \"57b91273-a23c-43d7-9cee-5e6c90f0cfc1\"}, {\"attributes\": {\"tags\": [], \"doc\": null, \"renderers\": [], \"callback\": null, \"names\": [], \"id\": \"9adc81ee-bc60-4a99-abb2-dd0a6e7d832c\"}, \"type\": \"DataRange1d\", \"id\": \"9adc81ee-bc60-4a99-abb2-dd0a6e7d832c\"}, {\"attributes\": {\"plot\": {\"subtype\": \"Figure\", \"type\": \"Plot\", \"id\": \"f147037b-25d4-4d86-a957-c684c609e80e\"}, \"tags\": [], \"doc\": null, \"formatter\": {\"type\": \"BasicTickFormatter\", \"id\": \"3c112c8f-ad6d-4437-9648-59c431c05e55\"}, \"ticker\": {\"type\": \"BasicTicker\", \"id\": \"ae253db8-ce77-471f-98a6-58262cc57a6f\"}, \"id\": \"3abf3e1c-2502-4119-a066-a4ddc52db29a\"}, \"type\": \"LinearAxis\", \"id\": \"3abf3e1c-2502-4119-a066-a4ddc52db29a\"}, {\"attributes\": {\"plot\": {\"subtype\": \"Figure\", \"type\": \"Plot\", \"id\": \"f147037b-25d4-4d86-a957-c684c609e80e\"}, \"tags\": [], \"doc\": null, \"id\": \"aeb72674-3712-4f34-b2ec-c4c2a15ef20e\"}, \"type\": \"ResetTool\", \"id\": \"aeb72674-3712-4f34-b2ec-c4c2a15ef20e\"}, {\"attributes\": {\"tags\": [], \"doc\": null, \"mantissas\": [2, 5, 10], \"id\": \"ae253db8-ce77-471f-98a6-58262cc57a6f\", \"num_minor_ticks\": 5}, \"type\": \"BasicTicker\", \"id\": \"ae253db8-ce77-471f-98a6-58262cc57a6f\"}, {\"attributes\": {\"nonselection_glyph\": {\"type\": \"Circle\", \"id\": \"b3bc28a3-4bd2-4921-9d86-850a6c5086b2\"}, \"data_source\": {\"type\": \"ColumnDataSource\", \"id\": \"8d749c9f-5cd9-4b11-9709-0c0a375c88ae\"}, \"tags\": [], \"doc\": null, \"selection_glyph\": null, \"id\": \"b8da9077-1c90-4a54-8be5-eec0092de4a0\", \"glyph\": {\"type\": \"Circle\", \"id\": \"57b91273-a23c-43d7-9cee-5e6c90f0cfc1\"}}, \"type\": \"GlyphRenderer\", \"id\": \"b8da9077-1c90-4a54-8be5-eec0092de4a0\"}, {\"attributes\": {\"tags\": [], \"doc\": null, \"renderers\": [], \"callback\": null, \"names\": [], \"id\": \"5531c59b-d09b-4625-8c93-bcd5ab35fe1c\"}, \"type\": \"DataRange1d\", \"id\": \"5531c59b-d09b-4625-8c93-bcd5ab35fe1c\"}, {\"attributes\": {\"tags\": [], \"doc\": null, \"mantissas\": [2, 5, 10], \"id\": \"00ddf6ab-e5c4-4a69-9f30-e08a0a53fba5\", \"num_minor_ticks\": 5}, \"type\": \"BasicTicker\", \"id\": \"00ddf6ab-e5c4-4a69-9f30-e08a0a53fba5\"}, {\"attributes\": {\"plot\": {\"subtype\": \"Figure\", \"type\": \"Plot\", \"id\": \"f147037b-25d4-4d86-a957-c684c609e80e\"}, \"tags\": [], \"doc\": null, \"formatter\": {\"type\": \"BasicTickFormatter\", \"id\": \"2adff93b-5bc5-4b82-bce8-b47faf82fd2a\"}, \"ticker\": {\"type\": \"BasicTicker\", \"id\": \"00ddf6ab-e5c4-4a69-9f30-e08a0a53fba5\"}, \"id\": \"c83546d4-e53c-4ca7-aa23-9eec93b490e3\"}, \"type\": \"LinearAxis\", \"id\": \"c83546d4-e53c-4ca7-aa23-9eec93b490e3\"}, {\"attributes\": {\"plot\": {\"subtype\": \"Figure\", \"type\": \"Plot\", \"id\": \"f147037b-25d4-4d86-a957-c684c609e80e\"}, \"dimensions\": [\"width\", \"height\"], \"tags\": [], \"doc\": null, \"id\": \"c625da97-02fc-45d0-b85a-44192e509406\"}, \"type\": \"WheelZoomTool\", \"id\": \"c625da97-02fc-45d0-b85a-44192e509406\"}, {\"attributes\": {\"plot\": {\"subtype\": \"Figure\", \"type\": \"Plot\", \"id\": \"f147037b-25d4-4d86-a957-c684c609e80e\"}, \"tags\": [], \"doc\": null, \"id\": \"b10e2328-6c6f-4a37-96aa-0903ae4e1ac5\"}, \"type\": \"ResizeTool\", \"id\": \"b10e2328-6c6f-4a37-96aa-0903ae4e1ac5\"}, {\"attributes\": {\"plot\": {\"subtype\": \"Figure\", \"type\": \"Plot\", \"id\": \"f147037b-25d4-4d86-a957-c684c609e80e\"}, \"tags\": [], \"doc\": null, \"id\": \"24e4c1b5-588a-4a1c-a494-a27d75e67e7c\"}, \"type\": \"PreviewSaveTool\", \"id\": \"24e4c1b5-588a-4a1c-a494-a27d75e67e7c\"}, {\"attributes\": {\"plot\": {\"subtype\": \"Figure\", \"type\": \"Plot\", \"id\": \"f147037b-25d4-4d86-a957-c684c609e80e\"}, \"tags\": [], \"doc\": null, \"dimension\": 1, \"ticker\": {\"type\": \"BasicTicker\", \"id\": \"00ddf6ab-e5c4-4a69-9f30-e08a0a53fba5\"}, \"id\": \"0dcdbdc5-60e0-435c-b27c-6d45dcc7e4be\"}, \"type\": \"Grid\", \"id\": \"0dcdbdc5-60e0-435c-b27c-6d45dcc7e4be\"}, {\"attributes\": {\"doc\": null, \"id\": \"2adff93b-5bc5-4b82-bce8-b47faf82fd2a\", \"tags\": []}, \"type\": \"BasicTickFormatter\", \"id\": \"2adff93b-5bc5-4b82-bce8-b47faf82fd2a\"}, {\"attributes\": {\"line_color\": {\"value\": \"#1f77b4\"}, \"line_alpha\": {\"value\": 0.1}, \"fill_color\": {\"value\": \"#1f77b4\"}, \"tags\": [], \"doc\": null, \"fill_alpha\": {\"value\": 0.1}, \"y\": {\"field\": \"y\"}, \"x\": {\"field\": \"x\"}, \"id\": \"b3bc28a3-4bd2-4921-9d86-850a6c5086b2\"}, \"type\": \"Circle\", \"id\": \"b3bc28a3-4bd2-4921-9d86-850a6c5086b2\"}, {\"attributes\": {\"geometries\": [], \"tags\": [], \"doc\": null, \"id\": \"f944d2a3-f6d6-4aea-8c4e-a33d8f887710\"}, \"type\": \"ToolEvents\", \"id\": \"f944d2a3-f6d6-4aea-8c4e-a33d8f887710\"}, {\"attributes\": {\"column_names\": [\"y\", \"x\"], \"tags\": [], \"doc\": null, \"selected\": {\"2d\": {\"indices\": []}, \"1d\": {\"indices\": []}, \"0d\": {\"indices\": [], \"flag\": false}}, \"callback\": null, \"data\": {\"y\": [3, 4], \"x\": [1, 2]}, \"id\": \"8d749c9f-5cd9-4b11-9709-0c0a375c88ae\"}, \"type\": \"ColumnDataSource\", \"id\": \"8d749c9f-5cd9-4b11-9709-0c0a375c88ae\"}, {\"attributes\": {\"plot\": {\"subtype\": \"Figure\", \"type\": \"Plot\", \"id\": \"f147037b-25d4-4d86-a957-c684c609e80e\"}, \"tags\": [], \"doc\": null, \"dimension\": 0, \"ticker\": {\"type\": \"BasicTicker\", \"id\": \"ae253db8-ce77-471f-98a6-58262cc57a6f\"}, \"id\": \"ba8dc995-012b-4cd3-8c9a-5f09eed214b9\"}, \"type\": \"Grid\", \"id\": \"ba8dc995-012b-4cd3-8c9a-5f09eed214b9\"}, {\"attributes\": {\"plot\": {\"subtype\": \"Figure\", \"type\": \"Plot\", \"id\": \"f147037b-25d4-4d86-a957-c684c609e80e\"}, \"dimensions\": [\"width\", \"height\"], \"tags\": [], \"doc\": null, \"id\": \"bb747f1a-e147-4753-a15a-a38e6b96b6fe\"}, \"type\": \"BoxZoomTool\", \"id\": \"bb747f1a-e147-4753-a15a-a38e6b96b6fe\"}];\n",
       "            Bokeh.load_models(all_models);\n",
       "            var plots = [{'modeltype': 'Plot', 'elementid': 'f21c384f-fc97-47d2-8a67-b6b5b8167922', 'modelid': 'f147037b-25d4-4d86-a957-c684c609e80e'}];\n",
       "            for (idx in plots) {\n",
       "            \tvar plot = plots[idx];\n",
       "            \tvar model = Bokeh.Collections(plot.modeltype).get(plot.modelid);\n",
       "            \tBokeh.logger.info('Realizing plot:')\n",
       "            \tBokeh.logger.info(' - modeltype: ' + plot.modeltype);\n",
       "            \tBokeh.logger.info(' - modelid: ' + plot.modelid);\n",
       "            \tBokeh.logger.info(' - elementid: ' + plot.elementid);\n",
       "            \tvar view = new model.default_view({\n",
       "            \t\tmodel: model,\n",
       "            \t\tel: '#' + plot.elementid\n",
       "            \t});\n",
       "            \tBokeh.index[plot.modelid] = view;\n",
       "            }\n",
       "        });\n",
       "        </script>\n",
       "    </body>\n",
       "</html>"
      ],
      "text/plain": [
       "<IPython.core.display.HTML object>"
      ]
     },
     "metadata": {},
     "output_type": "display_data"
    }
   ],
   "source": [
    "plot = figure()\n",
    "plot.circle([1,2], [3,4])\n",
    "\n",
    "html = file_html(plot, CDN, \"my plot\")\n",
    "\n",
    "display(HTML(html))"
   ]
  },
  {
   "cell_type": "code",
   "execution_count": null,
   "metadata": {
    "collapsed": true
   },
   "outputs": [],
   "source": []
  }
 ],
 "metadata": {
  "kernelspec": {
   "display_name": "Python 2",
   "language": "python",
   "name": "python2"
  },
  "language_info": {
   "codemirror_mode": {
    "name": "ipython",
    "version": 2
   },
   "file_extension": ".py",
   "mimetype": "text/x-python",
   "name": "python",
   "nbconvert_exporter": "python",
   "pygments_lexer": "ipython2",
   "version": "2.7.10"
  }
 },
 "nbformat": 4,
 "nbformat_minor": 0
}
